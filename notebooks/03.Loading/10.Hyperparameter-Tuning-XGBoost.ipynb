{
 "cells": [
  {
   "cell_type": "code",
   "execution_count": 1,
   "metadata": {},
   "outputs": [],
   "source": [
    "# Importar librerías\n",
    "import pandas as pd\n",
    "import numpy as np\n",
    "import json\n",
    "import time\n",
    "import joblib\n",
    "from sklearn.model_selection import train_test_split, GridSearchCV\n",
    "from xgboost import XGBRegressor\n",
    "from sklearn.preprocessing import StandardScaler\n",
    "from sklearn.pipeline import Pipeline\n",
    "from sklearn.metrics import r2_score"
   ]
  },
  {
   "cell_type": "code",
   "execution_count": 2,
   "metadata": {},
   "outputs": [
    {
     "name": "stdout",
     "output_type": "stream",
     "text": [
      "Datos y características cargados.\n"
     ]
    }
   ],
   "source": [
    "# Cargar datos y características\n",
    "processed_data_path = '../../data/processed/final_processed_data.parquet'\n",
    "features_path = '../../data/processed/final_features.json'\n",
    "\n",
    "df = pd.read_parquet(processed_data_path)\n",
    "with open(features_path, 'r') as f:\n",
    "    final_features = json.load(f)\n",
    "\n",
    "print(\"Datos y características cargados.\")"
   ]
  },
  {
   "cell_type": "code",
   "execution_count": 3,
   "metadata": {},
   "outputs": [
    {
     "name": "stdout",
     "output_type": "stream",
     "text": [
      "Iniciando ajuste de hiperparámetros para XGBoost...\n",
      "Fitting 3 folds for each of 8 candidates, totalling 24 fits\n",
      "[CV] END regressor__learning_rate=0.1, regressor__max_depth=5, regressor__n_estimators=100; total time=   0.1s\n",
      "[CV] END regressor__learning_rate=0.1, regressor__max_depth=5, regressor__n_estimators=100; total time=   0.1s\n",
      "[CV] END regressor__learning_rate=0.1, regressor__max_depth=5, regressor__n_estimators=100; total time=   0.1s\n",
      "[CV] END regressor__learning_rate=0.1, regressor__max_depth=5, regressor__n_estimators=200; total time=   0.1s\n",
      "[CV] END regressor__learning_rate=0.1, regressor__max_depth=7, regressor__n_estimators=100; total time=   0.1s\n",
      "[CV] END regressor__learning_rate=0.1, regressor__max_depth=5, regressor__n_estimators=200; total time=   0.1s\n",
      "[CV] END regressor__learning_rate=0.05, regressor__max_depth=5, regressor__n_estimators=100; total time=   0.1s\n",
      "[CV] END regressor__learning_rate=0.1, regressor__max_depth=7, regressor__n_estimators=200; total time=   0.2s\n",
      "[CV] END regressor__learning_rate=0.05, regressor__max_depth=5, regressor__n_estimators=100; total time=   0.1s\n",
      "[CV] END regressor__learning_rate=0.1, regressor__max_depth=7, regressor__n_estimators=100; total time=   0.1s\n",
      "[CV] END regressor__learning_rate=0.05, regressor__max_depth=5, regressor__n_estimators=100; total time=   0.1s\n",
      "[CV] END regressor__learning_rate=0.1, regressor__max_depth=5, regressor__n_estimators=200; total time=   0.1s\n",
      "[CV] END regressor__learning_rate=0.1, regressor__max_depth=7, regressor__n_estimators=200; total time=   0.2s\n",
      "[CV] END regressor__learning_rate=0.1, regressor__max_depth=7, regressor__n_estimators=200; total time=   0.2s\n",
      "[CV] END regressor__learning_rate=0.1, regressor__max_depth=7, regressor__n_estimators=100; total time=   0.1s\n",
      "[CV] END regressor__learning_rate=0.05, regressor__max_depth=5, regressor__n_estimators=200; total time=   0.1s\n",
      "[CV] END regressor__learning_rate=0.05, regressor__max_depth=5, regressor__n_estimators=200; total time=   0.1s\n",
      "[CV] END regressor__learning_rate=0.05, regressor__max_depth=5, regressor__n_estimators=200; total time=   0.1s\n",
      "[CV] END regressor__learning_rate=0.05, regressor__max_depth=7, regressor__n_estimators=100; total time=   0.1s\n",
      "[CV] END regressor__learning_rate=0.05, regressor__max_depth=7, regressor__n_estimators=100; total time=   0.1s\n",
      "[CV] END regressor__learning_rate=0.05, regressor__max_depth=7, regressor__n_estimators=100; total time=   0.1s\n",
      "[CV] END regressor__learning_rate=0.05, regressor__max_depth=7, regressor__n_estimators=200; total time=   0.1s\n",
      "[CV] END regressor__learning_rate=0.05, regressor__max_depth=7, regressor__n_estimators=200; total time=   0.1s\n",
      "[CV] END regressor__learning_rate=0.05, regressor__max_depth=7, regressor__n_estimators=200; total time=   0.1s\n",
      "Ajuste completado en 3.69 segundos.\n",
      "Mejores parámetros encontrados: {'regressor__learning_rate': 0.05, 'regressor__max_depth': 5, 'regressor__n_estimators': 100}\n",
      "Mejor R² (CV): 0.7150853824195035\n",
      "R² en conjunto de prueba: 0.7481\n",
      "\n",
      "Modelo optimizado guardado en: ../../models/xgboost_tuned_pipeline.joblib\n"
     ]
    }
   ],
   "source": [
    "# Preparar datos\n",
    "target_column = 'precio_mxn'\n",
    "X = df[final_features]\n",
    "y = df[target_column]\n",
    "\n",
    "if X.isnull().sum().sum() > 0 or y.isnull().sum() > 0:\n",
    "    mask = ~(X.isnull().any(axis=1) | y.isnull())\n",
    "    X = X[mask]\n",
    "    y = y[mask]\n",
    "\n",
    "X_train, X_test, y_train, y_test = train_test_split(X, y, test_size=0.2, random_state=42)\n",
    "\n",
    "# Definir pipeline y grid de hiperparámetros\n",
    "pipeline = Pipeline([\n",
    "    ('scaler', StandardScaler()),\n",
    "    ('regressor', XGBRegressor(random_state=42, n_jobs=-1, objective='reg:squarederror'))\n",
    "])\n",
    "\n",
    "param_grid = {\n",
    "    'regressor__n_estimators': [100, 200],\n",
    "    'regressor__max_depth': [5, 7],\n",
    "    'regressor__learning_rate': [0.1, 0.05]\n",
    "}\n",
    "\n",
    "# Búsqueda de hiperparámetros\n",
    "grid_search = GridSearchCV(pipeline, param_grid, cv=3, scoring='r2', n_jobs=-1, verbose=2)\n",
    "\n",
    "print(\"Iniciando ajuste de hiperparámetros para XGBoost...\")\n",
    "start_time = time.time()\n",
    "grid_search.fit(X_train, y_train)\n",
    "tuning_time = time.time() - start_time\n",
    "print(f\"Ajuste completado en {tuning_time:.2f} segundos.\")\n",
    "\n",
    "# Mejores parámetros y score\n",
    "print(\"Mejores parámetros encontrados:\", grid_search.best_params_)\n",
    "print(\"Mejor R² (CV):\", grid_search.best_score_)\n",
    "\n",
    "# Evaluar el mejor modelo en el conjunto de prueba\n",
    "best_model = grid_search.best_estimator_\n",
    "y_pred_test = best_model.predict(X_test)\n",
    "test_r2 = r2_score(y_test, y_pred_test)\n",
    "print(f\"R² en conjunto de prueba: {test_r2:.4f}\")\n",
    "\n",
    "# Guardar el mejor modelo\n",
    "model_path = '../../models/xgboost_tuned_pipeline.joblib'\n",
    "joblib.dump(best_model, model_path)\n",
    "print(f\"\\nModelo optimizado guardado en: {model_path}\")"
   ]
  }
 ],
 "metadata": {
  "kernelspec": {
   "display_name": "base",
   "language": "python",
   "name": "python3"
  },
  "language_info": {
   "codemirror_mode": {
    "name": "ipython",
    "version": 3
   },
   "file_extension": ".py",
   "mimetype": "text/x-python",
   "name": "python",
   "nbconvert_exporter": "python",
   "pygments_lexer": "ipython3",
   "version": "3.12.2"
  }
 },
 "nbformat": 4,
 "nbformat_minor": 2
}
