{
 "cells": [
  {
   "cell_type": "code",
   "execution_count": 1,
   "metadata": {},
   "outputs": [],
   "source": [
    "# Importar librerías\n",
    "import pandas as pd\n",
    "import json\n",
    "import joblib\n",
    "import os"
   ]
  },
  {
   "cell_type": "code",
   "execution_count": 2,
   "metadata": {},
   "outputs": [
    {
     "name": "stdout",
     "output_type": "stream",
     "text": [
      "Comparación de Modelos:\n"
     ]
    },
    {
     "data": {
      "text/html": [
       "<div>\n",
       "<style scoped>\n",
       "    .dataframe tbody tr th:only-of-type {\n",
       "        vertical-align: middle;\n",
       "    }\n",
       "\n",
       "    .dataframe tbody tr th {\n",
       "        vertical-align: top;\n",
       "    }\n",
       "\n",
       "    .dataframe thead th {\n",
       "        text-align: right;\n",
       "    }\n",
       "</style>\n",
       "<table border=\"1\" class=\"dataframe\">\n",
       "  <thead>\n",
       "    <tr style=\"text-align: right;\">\n",
       "      <th></th>\n",
       "      <th>R² (Prueba)</th>\n",
       "      <th>RMSE (Prueba)</th>\n",
       "      <th>MAE (Prueba)</th>\n",
       "      <th>Tiempo de entrenamiento (s)</th>\n",
       "      <th>Tiempo de predicción (s)</th>\n",
       "    </tr>\n",
       "  </thead>\n",
       "  <tbody>\n",
       "    <tr>\n",
       "      <th>Random Forest Tuned</th>\n",
       "      <td>0.805242</td>\n",
       "      <td>12799.066542</td>\n",
       "      <td>7239.970685</td>\n",
       "      <td>16.268839</td>\n",
       "      <td>0.027672</td>\n",
       "    </tr>\n",
       "    <tr>\n",
       "      <th>XGBoost Tuned</th>\n",
       "      <td>0.804433</td>\n",
       "      <td>12825.613920</td>\n",
       "      <td>7571.263868</td>\n",
       "      <td>4.515549</td>\n",
       "      <td>0.003255</td>\n",
       "    </tr>\n",
       "    <tr>\n",
       "      <th>XGBoost</th>\n",
       "      <td>0.797995</td>\n",
       "      <td>13035.013988</td>\n",
       "      <td>7959.820767</td>\n",
       "      <td>0.093971</td>\n",
       "      <td>0.002206</td>\n",
       "    </tr>\n",
       "    <tr>\n",
       "      <th>Gradient Boosting Tuned</th>\n",
       "      <td>0.792350</td>\n",
       "      <td>13215.911319</td>\n",
       "      <td>7760.551597</td>\n",
       "      <td>14.036204</td>\n",
       "      <td>0.006338</td>\n",
       "    </tr>\n",
       "    <tr>\n",
       "      <th>Random Forest</th>\n",
       "      <td>0.781103</td>\n",
       "      <td>13569.087777</td>\n",
       "      <td>8169.500503</td>\n",
       "      <td>0.500972</td>\n",
       "      <td>0.015496</td>\n",
       "    </tr>\n",
       "    <tr>\n",
       "      <th>Gradient Boosting</th>\n",
       "      <td>0.769720</td>\n",
       "      <td>13917.425139</td>\n",
       "      <td>8818.689028</td>\n",
       "      <td>1.003435</td>\n",
       "      <td>0.002910</td>\n",
       "    </tr>\n",
       "    <tr>\n",
       "      <th>Linear Regression</th>\n",
       "      <td>0.470845</td>\n",
       "      <td>21097.084590</td>\n",
       "      <td>14326.372073</td>\n",
       "      <td>0.011445</td>\n",
       "      <td>0.001490</td>\n",
       "    </tr>\n",
       "  </tbody>\n",
       "</table>\n",
       "</div>"
      ],
      "text/plain": [
       "                         R² (Prueba)  RMSE (Prueba)  MAE (Prueba)  \\\n",
       "Random Forest Tuned         0.805242   12799.066542   7239.970685   \n",
       "XGBoost Tuned               0.804433   12825.613920   7571.263868   \n",
       "XGBoost                     0.797995   13035.013988   7959.820767   \n",
       "Gradient Boosting Tuned     0.792350   13215.911319   7760.551597   \n",
       "Random Forest               0.781103   13569.087777   8169.500503   \n",
       "Gradient Boosting           0.769720   13917.425139   8818.689028   \n",
       "Linear Regression           0.470845   21097.084590  14326.372073   \n",
       "\n",
       "                         Tiempo de entrenamiento (s)  Tiempo de predicción (s)  \n",
       "Random Forest Tuned                        16.268839                  0.027672  \n",
       "XGBoost Tuned                               4.515549                  0.003255  \n",
       "XGBoost                                     0.093971                  0.002206  \n",
       "Gradient Boosting Tuned                    14.036204                  0.006338  \n",
       "Random Forest                               0.500972                  0.015496  \n",
       "Gradient Boosting                           1.003435                  0.002910  \n",
       "Linear Regression                           0.011445                  0.001490  "
      ]
     },
     "metadata": {},
     "output_type": "display_data"
    }
   ],
   "source": [
    "# Comparación de Modelos\n",
    "models_dir = '../../models/'\n",
    "model_comparison = {}\n",
    "\n",
    "model_files = {\n",
    "    \"Linear Regression\": \"linear_regression\",\n",
    "    \"Random Forest\": \"random_forest\",\n",
    "    \"Gradient Boosting\": \"gradient_boosting\",\n",
    "    \"XGBoost\": \"xgboost\",\n",
    "    \"Random Forest Tuned\": \"random_forest_tuned\",\n",
    "    \"Gradient Boosting Tuned\": \"gradient_boosting_tuned\",\n",
    "    \"XGBoost Tuned\": \"xgboost_tuned\"\n",
    "}\n",
    "\n",
    "for model_name, file_prefix in model_files.items():\n",
    "    metrics_path = os.path.join(models_dir, f\"{file_prefix}_metrics.json\")\n",
    "    pipeline_path = os.path.join(models_dir, f\"{file_prefix}_pipeline.joblib\")\n",
    "    \n",
    "    if os.path.exists(pipeline_path) and os.path.exists(metrics_path):\n",
    "        with open(metrics_path, 'r') as f:\n",
    "            metrics = json.load(f)\n",
    "        model_comparison[model_name] = {\n",
    "            \"R² (Prueba)\": metrics['test_metrics']['r2'],\n",
    "            \"RMSE (Prueba)\": metrics['test_metrics']['rmse'],\n",
    "            \"MAE (Prueba)\": metrics['test_metrics']['mae'],\n",
    "            \"Tiempo de entrenamiento (s)\": metrics.get('training_time', 'N/A'),\n",
    "            \"Tiempo de predicción (s)\": metrics.get('prediction_time', 'N/A')\n",
    "        }\n",
    "\n",
    "# Crear DataFrame para visualización\n",
    "comparison_df = pd.DataFrame(model_comparison).T\n",
    "comparison_df = comparison_df.sort_values(by=\"R² (Prueba)\", ascending=False)\n",
    "\n",
    "print(\"Comparación de Modelos:\")\n",
    "display(comparison_df)"
   ]
  },
  {
   "cell_type": "code",
   "execution_count": 3,
   "metadata": {},
   "outputs": [
    {
     "name": "stdout",
     "output_type": "stream",
     "text": [
      "\n",
      "El modelo seleccionado por R² es: Random Forest Tuned\n"
     ]
    }
   ],
   "source": [
    "# Decidir el modelo final\n",
    "best_model_name = comparison_df.index[0]\n",
    "print(f\"\\nEl modelo seleccionado por R² es: {best_model_name}\")"
   ]
  },
  {
   "cell_type": "code",
   "execution_count": 4,
   "metadata": {},
   "outputs": [
    {
     "name": "stdout",
     "output_type": "stream",
     "text": [
      "\n",
      "El modelo seleccionado por tiempo de predicción es: Linear Regression\n"
     ]
    }
   ],
   "source": [
    "best_model_name = comparison_df.sort_values('Tiempo de predicción (s)').index[0]\n",
    "print(f\"\\nEl modelo seleccionado por tiempo de predicción es: {best_model_name}\")"
   ]
  },
  {
   "cell_type": "markdown",
   "metadata": {},
   "source": [
    "El mejor modelo es XGBoost, por lo que se guarda como el modelo final."
   ]
  },
  {
   "cell_type": "markdown",
   "metadata": {},
   "source": []
  }
 ],
 "metadata": {
  "kernelspec": {
   "display_name": "base",
   "language": "python",
   "name": "python3"
  },
  "language_info": {
   "codemirror_mode": {
    "name": "ipython",
    "version": 3
   },
   "file_extension": ".py",
   "mimetype": "text/x-python",
   "name": "python",
   "nbconvert_exporter": "python",
   "pygments_lexer": "ipython3",
   "version": "3.12.2"
  }
 },
 "nbformat": 4,
 "nbformat_minor": 2
}
