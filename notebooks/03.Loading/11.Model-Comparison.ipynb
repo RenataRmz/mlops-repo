{
 "cells": [
  {
   "cell_type": "code",
   "execution_count": 1,
   "metadata": {},
   "outputs": [],
   "source": [
    "# Importar librerías\n",
    "import pandas as pd\n",
    "import json\n",
    "import joblib\n",
    "import os"
   ]
  },
  {
   "cell_type": "code",
   "execution_count": 2,
   "metadata": {},
   "outputs": [
    {
     "name": "stdout",
     "output_type": "stream",
     "text": [
      "Comparación de Modelos:\n"
     ]
    },
    {
     "data": {
      "text/html": [
       "<div>\n",
       "<style scoped>\n",
       "    .dataframe tbody tr th:only-of-type {\n",
       "        vertical-align: middle;\n",
       "    }\n",
       "\n",
       "    .dataframe tbody tr th {\n",
       "        vertical-align: top;\n",
       "    }\n",
       "\n",
       "    .dataframe thead th {\n",
       "        text-align: right;\n",
       "    }\n",
       "</style>\n",
       "<table border=\"1\" class=\"dataframe\">\n",
       "  <thead>\n",
       "    <tr style=\"text-align: right;\">\n",
       "      <th></th>\n",
       "      <th>R² (Prueba)</th>\n",
       "      <th>RMSE (Prueba)</th>\n",
       "      <th>MAE (Prueba)</th>\n",
       "      <th>Tiempo de entrenamiento (s)</th>\n",
       "    </tr>\n",
       "  </thead>\n",
       "  <tbody>\n",
       "    <tr>\n",
       "      <th>Random Forest Tuned</th>\n",
       "      <td>0.768061</td>\n",
       "      <td>14202.124292</td>\n",
       "      <td>8230.101983</td>\n",
       "      <td>7.049953</td>\n",
       "    </tr>\n",
       "    <tr>\n",
       "      <th>Random Forest</th>\n",
       "      <td>0.765918</td>\n",
       "      <td>14267.589113</td>\n",
       "      <td>8574.837059</td>\n",
       "      <td>0.169359</td>\n",
       "    </tr>\n",
       "    <tr>\n",
       "      <th>XGBoost</th>\n",
       "      <td>0.749952</td>\n",
       "      <td>14746.135525</td>\n",
       "      <td>8733.028500</td>\n",
       "      <td>0.060912</td>\n",
       "    </tr>\n",
       "    <tr>\n",
       "      <th>Gradient Boosting</th>\n",
       "      <td>0.738597</td>\n",
       "      <td>15077.243769</td>\n",
       "      <td>9177.843422</td>\n",
       "      <td>0.273484</td>\n",
       "    </tr>\n",
       "    <tr>\n",
       "      <th>Gradient Boosting Tuned</th>\n",
       "      <td>0.738597</td>\n",
       "      <td>15077.243769</td>\n",
       "      <td>9177.843422</td>\n",
       "      <td>5.573292</td>\n",
       "    </tr>\n",
       "    <tr>\n",
       "      <th>Linear Regression</th>\n",
       "      <td>0.522696</td>\n",
       "      <td>20373.421020</td>\n",
       "      <td>13038.105589</td>\n",
       "      <td>0.003535</td>\n",
       "    </tr>\n",
       "  </tbody>\n",
       "</table>\n",
       "</div>"
      ],
      "text/plain": [
       "                         R² (Prueba)  RMSE (Prueba)  MAE (Prueba)  \\\n",
       "Random Forest Tuned         0.768061   14202.124292   8230.101983   \n",
       "Random Forest               0.765918   14267.589113   8574.837059   \n",
       "XGBoost                     0.749952   14746.135525   8733.028500   \n",
       "Gradient Boosting           0.738597   15077.243769   9177.843422   \n",
       "Gradient Boosting Tuned     0.738597   15077.243769   9177.843422   \n",
       "Linear Regression           0.522696   20373.421020  13038.105589   \n",
       "\n",
       "                         Tiempo de entrenamiento (s)  \n",
       "Random Forest Tuned                         7.049953  \n",
       "Random Forest                               0.169359  \n",
       "XGBoost                                     0.060912  \n",
       "Gradient Boosting                           0.273484  \n",
       "Gradient Boosting Tuned                     5.573292  \n",
       "Linear Regression                           0.003535  "
      ]
     },
     "metadata": {},
     "output_type": "display_data"
    }
   ],
   "source": [
    "# Comparación de Modelos\n",
    "models_dir = '../../models/'\n",
    "model_comparison = {}\n",
    "\n",
    "model_files = {\n",
    "    \"Linear Regression\": \"linear_regression\",\n",
    "    \"Random Forest\": \"random_forest\",\n",
    "    \"Gradient Boosting\": \"gradient_boosting\",\n",
    "    \"XGBoost\": \"xgboost\",\n",
    "    \"Random Forest Tuned\": \"random_forest_tuned\",\n",
    "    \"Gradient Boosting Tuned\": \"gradient_boosting_tuned\",\n",
    "    \"XGBoost Tuned\": \"xgboost_tuned\"\n",
    "}\n",
    "\n",
    "for model_name, file_prefix in model_files.items():\n",
    "    metrics_path = os.path.join(models_dir, f\"{file_prefix}_metrics.json\")\n",
    "    pipeline_path = os.path.join(models_dir, f\"{file_prefix}_pipeline.joblib\")\n",
    "    \n",
    "    if os.path.exists(pipeline_path) and os.path.exists(metrics_path):\n",
    "        with open(metrics_path, 'r') as f:\n",
    "            metrics = json.load(f)\n",
    "        model_comparison[model_name] = {\n",
    "            \"R² (Prueba)\": metrics['test_metrics']['r2'],\n",
    "            \"RMSE (Prueba)\": metrics['test_metrics']['rmse'],\n",
    "            \"MAE (Prueba)\": metrics['test_metrics']['mae'],\n",
    "            \"Tiempo de entrenamiento (s)\": metrics.get('training_time', 'N/A')\n",
    "        }\n",
    "\n",
    "# Crear DataFrame para visualización\n",
    "comparison_df = pd.DataFrame(model_comparison).T\n",
    "comparison_df = comparison_df.sort_values(by=\"R² (Prueba)\", ascending=False)\n",
    "\n",
    "print(\"Comparación de Modelos:\")\n",
    "display(comparison_df)"
   ]
  },
  {
   "cell_type": "code",
   "execution_count": 3,
   "metadata": {},
   "outputs": [
    {
     "name": "stdout",
     "output_type": "stream",
     "text": [
      "\n",
      "El modelo seleccionado para producción es: Random Forest Tuned\n"
     ]
    }
   ],
   "source": [
    "# Decidir el modelo final\n",
    "best_model_name = comparison_df.index[0]\n",
    "print(f\"\\nEl modelo seleccionado para producción es: {best_model_name}\")"
   ]
  }
 ],
 "metadata": {
  "kernelspec": {
   "display_name": "base",
   "language": "python",
   "name": "python3"
  },
  "language_info": {
   "codemirror_mode": {
    "name": "ipython",
    "version": 3
   },
   "file_extension": ".py",
   "mimetype": "text/x-python",
   "name": "python",
   "nbconvert_exporter": "python",
   "pygments_lexer": "ipython3",
   "version": "3.12.2"
  }
 },
 "nbformat": 4,
 "nbformat_minor": 2
}
