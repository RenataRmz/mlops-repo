{
 "cells": [
  {
   "cell_type": "code",
   "execution_count": 6,
   "metadata": {},
   "outputs": [],
   "source": [
    "# Importar librerías\n",
    "import pandas as pd\n",
    "import json\n",
    "import joblib\n",
    "import os"
   ]
  },
  {
   "cell_type": "code",
   "execution_count": 7,
   "metadata": {},
   "outputs": [
    {
     "name": "stdout",
     "output_type": "stream",
     "text": [
      "Comparación de Modelos:\n"
     ]
    },
    {
     "data": {
      "text/html": [
       "<div>\n",
       "<style scoped>\n",
       "    .dataframe tbody tr th:only-of-type {\n",
       "        vertical-align: middle;\n",
       "    }\n",
       "\n",
       "    .dataframe tbody tr th {\n",
       "        vertical-align: top;\n",
       "    }\n",
       "\n",
       "    .dataframe thead th {\n",
       "        text-align: right;\n",
       "    }\n",
       "</style>\n",
       "<table border=\"1\" class=\"dataframe\">\n",
       "  <thead>\n",
       "    <tr style=\"text-align: right;\">\n",
       "      <th></th>\n",
       "      <th>R² (Prueba)</th>\n",
       "      <th>RMSE (Prueba)</th>\n",
       "      <th>MAE (Prueba)</th>\n",
       "      <th>Tiempo de entrenamiento (s)</th>\n",
       "      <th>Tiempo de predicción (s)</th>\n",
       "    </tr>\n",
       "  </thead>\n",
       "  <tbody>\n",
       "    <tr>\n",
       "      <th>Random Forest Tuned</th>\n",
       "      <td>0.768061</td>\n",
       "      <td>14202.124292</td>\n",
       "      <td>8230.101983</td>\n",
       "      <td>6.794373</td>\n",
       "      <td>0.014704</td>\n",
       "    </tr>\n",
       "    <tr>\n",
       "      <th>Random Forest</th>\n",
       "      <td>0.765918</td>\n",
       "      <td>14267.589113</td>\n",
       "      <td>8574.837059</td>\n",
       "      <td>0.215348</td>\n",
       "      <td>0.014613</td>\n",
       "    </tr>\n",
       "    <tr>\n",
       "      <th>XGBoost</th>\n",
       "      <td>0.749952</td>\n",
       "      <td>14746.135525</td>\n",
       "      <td>8733.028500</td>\n",
       "      <td>0.130599</td>\n",
       "      <td>0.002763</td>\n",
       "    </tr>\n",
       "    <tr>\n",
       "      <th>XGBoost Tuned</th>\n",
       "      <td>0.748134</td>\n",
       "      <td>14799.632362</td>\n",
       "      <td>8938.402475</td>\n",
       "      <td>3.623570</td>\n",
       "      <td>0.002123</td>\n",
       "    </tr>\n",
       "    <tr>\n",
       "      <th>Gradient Boosting</th>\n",
       "      <td>0.738597</td>\n",
       "      <td>15077.243769</td>\n",
       "      <td>9177.843422</td>\n",
       "      <td>0.290319</td>\n",
       "      <td>0.001988</td>\n",
       "    </tr>\n",
       "    <tr>\n",
       "      <th>Gradient Boosting Tuned</th>\n",
       "      <td>0.738597</td>\n",
       "      <td>15077.243769</td>\n",
       "      <td>9177.843422</td>\n",
       "      <td>4.900291</td>\n",
       "      <td>0.001928</td>\n",
       "    </tr>\n",
       "    <tr>\n",
       "      <th>Linear Regression</th>\n",
       "      <td>0.522696</td>\n",
       "      <td>20373.421020</td>\n",
       "      <td>13038.105589</td>\n",
       "      <td>0.004533</td>\n",
       "      <td>0.000465</td>\n",
       "    </tr>\n",
       "  </tbody>\n",
       "</table>\n",
       "</div>"
      ],
      "text/plain": [
       "                         R² (Prueba)  RMSE (Prueba)  MAE (Prueba)  \\\n",
       "Random Forest Tuned         0.768061   14202.124292   8230.101983   \n",
       "Random Forest               0.765918   14267.589113   8574.837059   \n",
       "XGBoost                     0.749952   14746.135525   8733.028500   \n",
       "XGBoost Tuned               0.748134   14799.632362   8938.402475   \n",
       "Gradient Boosting           0.738597   15077.243769   9177.843422   \n",
       "Gradient Boosting Tuned     0.738597   15077.243769   9177.843422   \n",
       "Linear Regression           0.522696   20373.421020  13038.105589   \n",
       "\n",
       "                         Tiempo de entrenamiento (s)  Tiempo de predicción (s)  \n",
       "Random Forest Tuned                         6.794373                  0.014704  \n",
       "Random Forest                               0.215348                  0.014613  \n",
       "XGBoost                                     0.130599                  0.002763  \n",
       "XGBoost Tuned                               3.623570                  0.002123  \n",
       "Gradient Boosting                           0.290319                  0.001988  \n",
       "Gradient Boosting Tuned                     4.900291                  0.001928  \n",
       "Linear Regression                           0.004533                  0.000465  "
      ]
     },
     "metadata": {},
     "output_type": "display_data"
    }
   ],
   "source": [
    "# Comparación de Modelos\n",
    "models_dir = '../../models/'\n",
    "model_comparison = {}\n",
    "\n",
    "model_files = {\n",
    "    \"Linear Regression\": \"linear_regression\",\n",
    "    \"Random Forest\": \"random_forest\",\n",
    "    \"Gradient Boosting\": \"gradient_boosting\",\n",
    "    \"XGBoost\": \"xgboost\",\n",
    "    \"Random Forest Tuned\": \"random_forest_tuned\",\n",
    "    \"Gradient Boosting Tuned\": \"gradient_boosting_tuned\",\n",
    "    \"XGBoost Tuned\": \"xgboost_tuned\"\n",
    "}\n",
    "\n",
    "for model_name, file_prefix in model_files.items():\n",
    "    metrics_path = os.path.join(models_dir, f\"{file_prefix}_metrics.json\")\n",
    "    pipeline_path = os.path.join(models_dir, f\"{file_prefix}_pipeline.joblib\")\n",
    "    \n",
    "    if os.path.exists(pipeline_path) and os.path.exists(metrics_path):\n",
    "        with open(metrics_path, 'r') as f:\n",
    "            metrics = json.load(f)\n",
    "        model_comparison[model_name] = {\n",
    "            \"R² (Prueba)\": metrics['test_metrics']['r2'],\n",
    "            \"RMSE (Prueba)\": metrics['test_metrics']['rmse'],\n",
    "            \"MAE (Prueba)\": metrics['test_metrics']['mae'],\n",
    "            \"Tiempo de entrenamiento (s)\": metrics.get('training_time', 'N/A'),\n",
    "            \"Tiempo de predicción (s)\": metrics.get('prediction_time', 'N/A')\n",
    "        }\n",
    "\n",
    "# Crear DataFrame para visualización\n",
    "comparison_df = pd.DataFrame(model_comparison).T\n",
    "comparison_df = comparison_df.sort_values(by=\"R² (Prueba)\", ascending=False)\n",
    "\n",
    "print(\"Comparación de Modelos:\")\n",
    "display(comparison_df)"
   ]
  },
  {
   "cell_type": "code",
   "execution_count": 8,
   "metadata": {},
   "outputs": [
    {
     "name": "stdout",
     "output_type": "stream",
     "text": [
      "\n",
      "El modelo seleccionado por R² es: Random Forest Tuned\n"
     ]
    }
   ],
   "source": [
    "# Decidir el modelo final\n",
    "best_model_name = comparison_df.index[0]\n",
    "print(f\"\\nEl modelo seleccionado por R² es: {best_model_name}\")"
   ]
  },
  {
   "cell_type": "code",
   "execution_count": 9,
   "metadata": {},
   "outputs": [
    {
     "name": "stdout",
     "output_type": "stream",
     "text": [
      "\n",
      "El modelo seleccionado por tiempo de predicción es: Linear Regression\n"
     ]
    }
   ],
   "source": [
    "best_model_name = comparison_df.sort_values('Tiempo de predicción (s)').index[0]\n",
    "print(f\"\\nEl modelo seleccionado por tiempo de predicción es: {best_model_name}\")"
   ]
  },
  {
   "cell_type": "markdown",
   "metadata": {},
   "source": [
    "El mejor modelo es XGBoost, por lo que se guarda como el modelo final."
   ]
  },
  {
   "cell_type": "markdown",
   "metadata": {},
   "source": []
  }
 ],
 "metadata": {
  "kernelspec": {
   "display_name": "base",
   "language": "python",
   "name": "python3"
  },
  "language_info": {
   "codemirror_mode": {
    "name": "ipython",
    "version": 3
   },
   "file_extension": ".py",
   "mimetype": "text/x-python",
   "name": "python",
   "nbconvert_exporter": "python",
   "pygments_lexer": "ipython3",
   "version": "3.12.2"
  }
 },
 "nbformat": 4,
 "nbformat_minor": 2
}
