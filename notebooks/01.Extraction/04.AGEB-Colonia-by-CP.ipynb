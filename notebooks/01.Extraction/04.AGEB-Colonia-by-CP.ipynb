{
 "cells": [
  {
   "cell_type": "markdown",
   "metadata": {},
   "source": [
    "# Importar Librerías Requeridas\n",
    "Importa las librerías necesarias, incluyendo pandas para la manipulación de datos y geopy para la geocodificación."
   ]
  },
  {
   "cell_type": "code",
   "execution_count": 1,
   "metadata": {},
   "outputs": [],
   "source": [
    "import pandas as pd\n",
    "from geopy.geocoders import Nominatim\n",
    "from geopy.exc import GeocoderTimedOut\n",
    "import time\n",
    "from datetime import datetime\n",
    "import unicodedata\n",
    "from multiprocessing import Pool, cpu_count\n",
    "import os\n",
    "from pyproj import Transformer"
   ]
  },
  {
   "cell_type": "markdown",
   "metadata": {},
   "source": [
    "# Cargar Datos desde Archivo Parquet\n",
    "Carga el DataFrame desde el archivo Parquet especificado que contiene la columna 'dirección'."
   ]
  },
  {
   "cell_type": "code",
   "execution_count": 2,
   "metadata": {},
   "outputs": [
    {
     "name": "stderr",
     "output_type": "stream",
     "text": [
      "/var/folders/c7/mdvpp7_n2dj49y88d6cj51kc0000gn/T/ipykernel_1233/3992418583.py:2: DtypeWarning: Columns (6,50,104,111,112,116,117) have mixed types. Specify dtype option on import or set low_memory=False.\n",
      "  df = pd.read_csv(file_path)\n"
     ]
    },
    {
     "data": {
      "text/html": [
       "<div>\n",
       "<style scoped>\n",
       "    .dataframe tbody tr th:only-of-type {\n",
       "        vertical-align: middle;\n",
       "    }\n",
       "\n",
       "    .dataframe tbody tr th {\n",
       "        vertical-align: top;\n",
       "    }\n",
       "\n",
       "    .dataframe thead th {\n",
       "        text-align: right;\n",
       "    }\n",
       "</style>\n",
       "<table border=\"1\" class=\"dataframe\">\n",
       "  <thead>\n",
       "    <tr style=\"text-align: right;\">\n",
       "      <th></th>\n",
       "      <th>ENTIDAD</th>\n",
       "      <th>NOM_ENT</th>\n",
       "      <th>MUN</th>\n",
       "      <th>NOM_MUN</th>\n",
       "      <th>LOC</th>\n",
       "      <th>NOM_LOC</th>\n",
       "      <th>AGEB</th>\n",
       "      <th>MZA</th>\n",
       "      <th>POBTOT</th>\n",
       "      <th>POBFEM</th>\n",
       "      <th>...</th>\n",
       "      <th>CVEREF2</th>\n",
       "      <th>TIPOVR2</th>\n",
       "      <th>NOMREF2</th>\n",
       "      <th>CVEVIAL3</th>\n",
       "      <th>CVESEG3</th>\n",
       "      <th>CVEREF3</th>\n",
       "      <th>TIPOVR3</th>\n",
       "      <th>NOMREF3</th>\n",
       "      <th>lon</th>\n",
       "      <th>lat</th>\n",
       "    </tr>\n",
       "  </thead>\n",
       "  <tbody>\n",
       "    <tr>\n",
       "      <th>0</th>\n",
       "      <td>9</td>\n",
       "      <td>Ciudad de México</td>\n",
       "      <td>0</td>\n",
       "      <td>Total de la entidad Ciudad de México</td>\n",
       "      <td>0</td>\n",
       "      <td>Total de la entidad</td>\n",
       "      <td>0000</td>\n",
       "      <td>0</td>\n",
       "      <td>9209944</td>\n",
       "      <td>4805017</td>\n",
       "      <td>...</td>\n",
       "      <td>NaN</td>\n",
       "      <td>NaN</td>\n",
       "      <td>NaN</td>\n",
       "      <td>NaN</td>\n",
       "      <td>NaN</td>\n",
       "      <td>NaN</td>\n",
       "      <td>NaN</td>\n",
       "      <td>NaN</td>\n",
       "      <td>NaN</td>\n",
       "      <td>NaN</td>\n",
       "    </tr>\n",
       "    <tr>\n",
       "      <th>1</th>\n",
       "      <td>9</td>\n",
       "      <td>Ciudad de México</td>\n",
       "      <td>2</td>\n",
       "      <td>Azcapotzalco</td>\n",
       "      <td>0</td>\n",
       "      <td>Total del municipio</td>\n",
       "      <td>0000</td>\n",
       "      <td>0</td>\n",
       "      <td>432205</td>\n",
       "      <td>227255</td>\n",
       "      <td>...</td>\n",
       "      <td>NaN</td>\n",
       "      <td>NaN</td>\n",
       "      <td>NaN</td>\n",
       "      <td>NaN</td>\n",
       "      <td>NaN</td>\n",
       "      <td>NaN</td>\n",
       "      <td>NaN</td>\n",
       "      <td>NaN</td>\n",
       "      <td>NaN</td>\n",
       "      <td>NaN</td>\n",
       "    </tr>\n",
       "    <tr>\n",
       "      <th>2</th>\n",
       "      <td>9</td>\n",
       "      <td>Ciudad de México</td>\n",
       "      <td>2</td>\n",
       "      <td>Azcapotzalco</td>\n",
       "      <td>1</td>\n",
       "      <td>Total de la localidad urbana</td>\n",
       "      <td>0000</td>\n",
       "      <td>0</td>\n",
       "      <td>432205</td>\n",
       "      <td>227255</td>\n",
       "      <td>...</td>\n",
       "      <td>NaN</td>\n",
       "      <td>NaN</td>\n",
       "      <td>NaN</td>\n",
       "      <td>NaN</td>\n",
       "      <td>NaN</td>\n",
       "      <td>NaN</td>\n",
       "      <td>NaN</td>\n",
       "      <td>NaN</td>\n",
       "      <td>NaN</td>\n",
       "      <td>NaN</td>\n",
       "    </tr>\n",
       "    <tr>\n",
       "      <th>3</th>\n",
       "      <td>9</td>\n",
       "      <td>Ciudad de México</td>\n",
       "      <td>2</td>\n",
       "      <td>Azcapotzalco</td>\n",
       "      <td>1</td>\n",
       "      <td>Total AGEB urbana</td>\n",
       "      <td>0010</td>\n",
       "      <td>0</td>\n",
       "      <td>3183</td>\n",
       "      <td>1695</td>\n",
       "      <td>...</td>\n",
       "      <td>NaN</td>\n",
       "      <td>NaN</td>\n",
       "      <td>NaN</td>\n",
       "      <td>NaN</td>\n",
       "      <td>NaN</td>\n",
       "      <td>NaN</td>\n",
       "      <td>NaN</td>\n",
       "      <td>NaN</td>\n",
       "      <td>NaN</td>\n",
       "      <td>NaN</td>\n",
       "    </tr>\n",
       "    <tr>\n",
       "      <th>4</th>\n",
       "      <td>9</td>\n",
       "      <td>Ciudad de México</td>\n",
       "      <td>2</td>\n",
       "      <td>Azcapotzalco</td>\n",
       "      <td>1</td>\n",
       "      <td>Azcapotzalco</td>\n",
       "      <td>0010</td>\n",
       "      <td>1</td>\n",
       "      <td>159</td>\n",
       "      <td>86</td>\n",
       "      <td>...</td>\n",
       "      <td>2.0</td>\n",
       "      <td>Calle</td>\n",
       "      <td>Física</td>\n",
       "      <td>1618.0</td>\n",
       "      <td>3.0</td>\n",
       "      <td>1.0</td>\n",
       "      <td>Avenida</td>\n",
       "      <td>Civilizaciones</td>\n",
       "      <td>2.792381e+06</td>\n",
       "      <td>837760.8518</td>\n",
       "    </tr>\n",
       "  </tbody>\n",
       "</table>\n",
       "<p>5 rows × 128 columns</p>\n",
       "</div>"
      ],
      "text/plain": [
       "   ENTIDAD           NOM_ENT  MUN                               NOM_MUN  LOC  \\\n",
       "0        9  Ciudad de México    0  Total de la entidad Ciudad de México    0   \n",
       "1        9  Ciudad de México    2                          Azcapotzalco    0   \n",
       "2        9  Ciudad de México    2                          Azcapotzalco    1   \n",
       "3        9  Ciudad de México    2                          Azcapotzalco    1   \n",
       "4        9  Ciudad de México    2                          Azcapotzalco    1   \n",
       "\n",
       "                        NOM_LOC  AGEB  MZA   POBTOT   POBFEM  ... CVEREF2  \\\n",
       "0           Total de la entidad  0000    0  9209944  4805017  ...     NaN   \n",
       "1           Total del municipio  0000    0   432205   227255  ...     NaN   \n",
       "2  Total de la localidad urbana  0000    0   432205   227255  ...     NaN   \n",
       "3             Total AGEB urbana  0010    0     3183     1695  ...     NaN   \n",
       "4                  Azcapotzalco  0010    1      159       86  ...     2.0   \n",
       "\n",
       "  TIPOVR2 NOMREF2 CVEVIAL3 CVESEG3 CVEREF3  TIPOVR3         NOMREF3  \\\n",
       "0     NaN     NaN      NaN     NaN     NaN      NaN             NaN   \n",
       "1     NaN     NaN      NaN     NaN     NaN      NaN             NaN   \n",
       "2     NaN     NaN      NaN     NaN     NaN      NaN             NaN   \n",
       "3     NaN     NaN      NaN     NaN     NaN      NaN             NaN   \n",
       "4   Calle  Física   1618.0     3.0     1.0  Avenida  Civilizaciones   \n",
       "\n",
       "            lon          lat  \n",
       "0           NaN          NaN  \n",
       "1           NaN          NaN  \n",
       "2           NaN          NaN  \n",
       "3           NaN          NaN  \n",
       "4  2.792381e+06  837760.8518  \n",
       "\n",
       "[5 rows x 128 columns]"
      ]
     },
     "execution_count": 2,
     "metadata": {},
     "output_type": "execute_result"
    }
   ],
   "source": [
    "file_path = '../../data/processed/INEGI/AGEB_fm.csv'\n",
    "df = pd.read_csv(file_path)\n",
    "df.head()"
   ]
  },
  {
   "cell_type": "code",
   "execution_count": 3,
   "metadata": {},
   "outputs": [],
   "source": [
    "df = df[~df.lon.isnull()]"
   ]
  },
  {
   "cell_type": "code",
   "execution_count": 4,
   "metadata": {},
   "outputs": [],
   "source": [
    "df[['lon', 'lat']] = df[['lon', 'lat']].astype(float)"
   ]
  },
  {
   "cell_type": "code",
   "execution_count": 5,
   "metadata": {},
   "outputs": [],
   "source": [
    "# Limpia el nombre del municipio\n",
    "df['municipio'] = df['NOM_MUN'].str.normalize('NFKD').str.encode('ascii', errors='ignore').str.decode('utf-8').str.lower().str.replace(' ', '_').str.replace('.', '')"
   ]
  },
  {
   "cell_type": "code",
   "execution_count": 6,
   "metadata": {},
   "outputs": [],
   "source": [
    "# Selecciona solo un municipio para ejemplo\n",
    "#df = df[df.municipio == 'benito_juarez'][:5]"
   ]
  },
  {
   "cell_type": "code",
   "execution_count": 7,
   "metadata": {},
   "outputs": [
    {
     "data": {
      "text/plain": [
       "Index(['VPH_TINACO', 'VPH_CISTER', 'VPH_EXCSA', 'VPH_LETR', 'VPH_DRENAJ',\n",
       "       'VPH_NODREN', 'VPH_C_SERV', 'VPH_NDEAED', 'VPH_DSADMA', 'VPH_NDACMM',\n",
       "       'VPH_SNBIEN', 'VPH_REFRI', 'VPH_LAVAD', 'VPH_HMICRO', 'VPH_AUTOM',\n",
       "       'VPH_MOTO', 'VPH_BICI', 'VPH_RADIO', 'VPH_TV', 'VPH_PC', 'VPH_TELEF',\n",
       "       'VPH_CEL', 'VPH_INTER', 'VPH_STVP', 'VPH_SPMVPI', 'VPH_CVJ',\n",
       "       'VPH_SINRTV', 'VPH_SINLTC', 'VPH_SINCINT', 'VPH_SINTIC', 'key',\n",
       "       'ENTIDAD_fm', 'MUN_fm', 'LOC_fm', 'AGEB_fm', 'MZA_fm', 'CVEVIAL',\n",
       "       'CVESEG', 'CVEFT', 'NOMVIAL', 'TIPOVIAL', 'CVEVIAL1', 'CVESEG1',\n",
       "       'CVEREF1', 'TIPOVR1', 'NOMREF1', 'CVEVIAL2', 'CVESEG2', 'CVEREF2',\n",
       "       'TIPOVR2', 'NOMREF2', 'CVEVIAL3', 'CVESEG3', 'CVEREF3', 'TIPOVR3',\n",
       "       'NOMREF3', 'lon', 'lat', 'municipio'],\n",
       "      dtype='object')"
      ]
     },
     "execution_count": 7,
     "metadata": {},
     "output_type": "execute_result"
    }
   ],
   "source": [
    "df.columns[70:]"
   ]
  },
  {
   "cell_type": "code",
   "execution_count": 8,
   "metadata": {},
   "outputs": [
    {
     "data": {
      "text/html": [
       "<div>\n",
       "<style scoped>\n",
       "    .dataframe tbody tr th:only-of-type {\n",
       "        vertical-align: middle;\n",
       "    }\n",
       "\n",
       "    .dataframe tbody tr th {\n",
       "        vertical-align: top;\n",
       "    }\n",
       "\n",
       "    .dataframe thead th {\n",
       "        text-align: right;\n",
       "    }\n",
       "</style>\n",
       "<table border=\"1\" class=\"dataframe\">\n",
       "  <thead>\n",
       "    <tr style=\"text-align: right;\">\n",
       "      <th></th>\n",
       "      <th>AGEB</th>\n",
       "      <th>MZA</th>\n",
       "      <th>NOMVIAL</th>\n",
       "      <th>TIPOVIAL</th>\n",
       "      <th>CVEVIAL1</th>\n",
       "      <th>CVESEG1</th>\n",
       "      <th>CVEREF1</th>\n",
       "      <th>TIPOVR1</th>\n",
       "      <th>NOMREF1</th>\n",
       "      <th>CVEVIAL2</th>\n",
       "      <th>CVESEG2</th>\n",
       "      <th>CVEREF2</th>\n",
       "      <th>TIPOVR2</th>\n",
       "      <th>NOMREF2</th>\n",
       "      <th>CVEVIAL3</th>\n",
       "      <th>CVESEG3</th>\n",
       "      <th>CVEREF3</th>\n",
       "      <th>TIPOVR3</th>\n",
       "      <th>NOMREF3</th>\n",
       "    </tr>\n",
       "  </thead>\n",
       "  <tbody>\n",
       "    <tr>\n",
       "      <th>4</th>\n",
       "      <td>0010</td>\n",
       "      <td>1</td>\n",
       "      <td>Matemáticas</td>\n",
       "      <td>Calle</td>\n",
       "      <td>1615.0</td>\n",
       "      <td>1.0</td>\n",
       "      <td>4.0</td>\n",
       "      <td>Calle</td>\n",
       "      <td>Química</td>\n",
       "      <td>1613.0</td>\n",
       "      <td>1.0</td>\n",
       "      <td>2.0</td>\n",
       "      <td>Calle</td>\n",
       "      <td>Física</td>\n",
       "      <td>1618.0</td>\n",
       "      <td>3.0</td>\n",
       "      <td>1.0</td>\n",
       "      <td>Avenida</td>\n",
       "      <td>Civilizaciones</td>\n",
       "    </tr>\n",
       "    <tr>\n",
       "      <th>5</th>\n",
       "      <td>0010</td>\n",
       "      <td>1</td>\n",
       "      <td>Civilizaciones</td>\n",
       "      <td>Avenida</td>\n",
       "      <td>1615.0</td>\n",
       "      <td>1.0</td>\n",
       "      <td>4.0</td>\n",
       "      <td>Calle</td>\n",
       "      <td>Química</td>\n",
       "      <td>1613.0</td>\n",
       "      <td>1.0</td>\n",
       "      <td>2.0</td>\n",
       "      <td>Calle</td>\n",
       "      <td>Física</td>\n",
       "      <td>1623.0</td>\n",
       "      <td>3.0</td>\n",
       "      <td>3.0</td>\n",
       "      <td>Calle</td>\n",
       "      <td>Matemáticas</td>\n",
       "    </tr>\n",
       "    <tr>\n",
       "      <th>6</th>\n",
       "      <td>0010</td>\n",
       "      <td>1</td>\n",
       "      <td>Física</td>\n",
       "      <td>Calle</td>\n",
       "      <td>1623.0</td>\n",
       "      <td>3.0</td>\n",
       "      <td>3.0</td>\n",
       "      <td>Calle</td>\n",
       "      <td>Matemáticas</td>\n",
       "      <td>1618.0</td>\n",
       "      <td>3.0</td>\n",
       "      <td>1.0</td>\n",
       "      <td>Avenida</td>\n",
       "      <td>Civilizaciones</td>\n",
       "      <td>1615.0</td>\n",
       "      <td>1.0</td>\n",
       "      <td>4.0</td>\n",
       "      <td>Calle</td>\n",
       "      <td>Química</td>\n",
       "    </tr>\n",
       "    <tr>\n",
       "      <th>7</th>\n",
       "      <td>0010</td>\n",
       "      <td>1</td>\n",
       "      <td>Química</td>\n",
       "      <td>Calle</td>\n",
       "      <td>1623.0</td>\n",
       "      <td>3.0</td>\n",
       "      <td>3.0</td>\n",
       "      <td>Calle</td>\n",
       "      <td>Matemáticas</td>\n",
       "      <td>1618.0</td>\n",
       "      <td>3.0</td>\n",
       "      <td>1.0</td>\n",
       "      <td>Avenida</td>\n",
       "      <td>Civilizaciones</td>\n",
       "      <td>1613.0</td>\n",
       "      <td>1.0</td>\n",
       "      <td>2.0</td>\n",
       "      <td>Calle</td>\n",
       "      <td>Física</td>\n",
       "    </tr>\n",
       "    <tr>\n",
       "      <th>8</th>\n",
       "      <td>0010</td>\n",
       "      <td>2</td>\n",
       "      <td>Civilizaciones</td>\n",
       "      <td>Avenida</td>\n",
       "      <td>1613.0</td>\n",
       "      <td>1.0</td>\n",
       "      <td>4.0</td>\n",
       "      <td>Calle</td>\n",
       "      <td>Física</td>\n",
       "      <td>908.0</td>\n",
       "      <td>1.0</td>\n",
       "      <td>2.0</td>\n",
       "      <td>Calle</td>\n",
       "      <td>Cultura Náhuatl</td>\n",
       "      <td>1623.0</td>\n",
       "      <td>2.0</td>\n",
       "      <td>3.0</td>\n",
       "      <td>Calle</td>\n",
       "      <td>Matemáticas</td>\n",
       "    </tr>\n",
       "  </tbody>\n",
       "</table>\n",
       "</div>"
      ],
      "text/plain": [
       "   AGEB  MZA         NOMVIAL TIPOVIAL CVEVIAL1 CVESEG1  CVEREF1 TIPOVR1  \\\n",
       "4  0010    1     Matemáticas    Calle   1615.0     1.0      4.0   Calle   \n",
       "5  0010    1  Civilizaciones  Avenida   1615.0     1.0      4.0   Calle   \n",
       "6  0010    1          Física    Calle   1623.0     3.0      3.0   Calle   \n",
       "7  0010    1         Química    Calle   1623.0     3.0      3.0   Calle   \n",
       "8  0010    2  Civilizaciones  Avenida   1613.0     1.0      4.0   Calle   \n",
       "\n",
       "       NOMREF1 CVEVIAL2 CVESEG2  CVEREF2  TIPOVR2          NOMREF2  CVEVIAL3  \\\n",
       "4      Química   1613.0     1.0      2.0    Calle           Física    1618.0   \n",
       "5      Química   1613.0     1.0      2.0    Calle           Física    1623.0   \n",
       "6  Matemáticas   1618.0     3.0      1.0  Avenida   Civilizaciones    1615.0   \n",
       "7  Matemáticas   1618.0     3.0      1.0  Avenida   Civilizaciones    1613.0   \n",
       "8       Física    908.0     1.0      2.0    Calle  Cultura Náhuatl    1623.0   \n",
       "\n",
       "   CVESEG3  CVEREF3  TIPOVR3         NOMREF3  \n",
       "4      3.0      1.0  Avenida  Civilizaciones  \n",
       "5      3.0      3.0    Calle     Matemáticas  \n",
       "6      1.0      4.0    Calle         Química  \n",
       "7      1.0      2.0    Calle          Física  \n",
       "8      2.0      3.0    Calle     Matemáticas  "
      ]
     },
     "execution_count": 8,
     "metadata": {},
     "output_type": "execute_result"
    }
   ],
   "source": [
    "df[[ 'AGEB','MZA','NOMVIAL', 'TIPOVIAL', 'CVEVIAL1', 'CVESEG1',\n",
    "       'CVEREF1', 'TIPOVR1', 'NOMREF1', 'CVEVIAL2', 'CVESEG2', 'CVEREF2',\n",
    "       'TIPOVR2', 'NOMREF2', 'CVEVIAL3', 'CVESEG3', 'CVEREF3', 'TIPOVR3',\n",
    "       'NOMREF3']].head()"
   ]
  },
  {
   "cell_type": "code",
   "execution_count": 9,
   "metadata": {},
   "outputs": [],
   "source": [
    "# Función para convertir UTM (Easting, Northing) a lat/lon (WGS84)\n",
    "def inegi_lcc_to_latlon(easting, northing):\n",
    "    '''Convierte coordenadas Lambert Conformal Conic INEGI (EPSG:6372) a lat/lon WGS84.'''\n",
    "    transformer = Transformer.from_crs(\"epsg:6372\", \"epsg:4326\", always_xy=True)\n",
    "    lon, lat = transformer.transform(easting, northing)\n",
    "    return lat, lon"
   ]
  },
  {
   "cell_type": "code",
   "execution_count": 10,
   "metadata": {},
   "outputs": [
    {
     "data": {
      "text/plain": [
       "(19.401674772489816, -99.15885625678762)"
      ]
     },
     "execution_count": 10,
     "metadata": {},
     "output_type": "execute_result"
    }
   ],
   "source": [
    "inegi_lcc_to_latlon(2.797545e+06, 825591.332517) "
   ]
  },
  {
   "cell_type": "code",
   "execution_count": 11,
   "metadata": {},
   "outputs": [],
   "source": [
    "# Función para realizar la geocodificación inversa\n",
    "def reverse_geocode(row):\n",
    "    geolocator = Nominatim(user_agent=\"geocoder_app\")\n",
    "    try:\n",
    "        lat, lon = inegi_lcc_to_latlon(row['lon'], row['lat'])  # lon=easting, lat=northing\n",
    "        location = geolocator.reverse(f\"{lat}, {lon}\", timeout=5)\n",
    "        if location:\n",
    "            return location.raw['address']\n",
    "        else:\n",
    "            return None\n",
    "    except GeocoderTimedOut:\n",
    "        print(\"Timeout occurred\")\n",
    "        return None\n",
    "    except Exception as e:\n",
    "        print(f\"An error occurred: {e}\")\n",
    "        return None"
   ]
  },
  {
   "cell_type": "code",
   "execution_count": 12,
   "metadata": {},
   "outputs": [],
   "source": [
    "def process_municipality(mun_name, mun_df):\n",
    "    print(f\"Processing municipality: {mun_name}\")\n",
    "    mun_df['address'] = mun_df.apply(reverse_geocode, axis=1)\n",
    "    mun_df['road'] = mun_df['address'].apply(lambda x: x.get('road') if x else None)\n",
    "    mun_df['quarter'] = mun_df['address'].apply(lambda x: x.get('quarter') if x else None)\n",
    "    mun_df['borough'] = mun_df['address'].apply(lambda x: x.get('borough') if x else None)\n",
    "    mun_df['postcode'] = mun_df['address'].apply(lambda x: x.get('postcode') if x else None)\n",
    "    now = datetime.now()\n",
    "    timestamp = now.strftime(\"%Y%m%d%H%M%S\")\n",
    "    filename = f\"{timestamp}_{mun_name}.csv\"\n",
    "    filepath = os.path.join('../../data/processed/INEGI/colonia', filename)\n",
    "    mun_df.to_csv(filepath, index=False)\n",
    "    print(f\"Saved municipality {mun_name} to {filepath}\")\n",
    "    return mun_df"
   ]
  },
  {
   "cell_type": "code",
   "execution_count": 13,
   "metadata": {},
   "outputs": [
    {
     "data": {
      "text/plain": [
       "municipio\n",
       "iztapalapa                77476\n",
       "gustavo_a_madero          40933\n",
       "tlalpan                   35300\n",
       "xochimilco                31108\n",
       "alvaro_obregon            30300\n",
       "coyoacan                  24760\n",
       "tlahuac                   21448\n",
       "azcapotzalco              15795\n",
       "venustiano_carranza       15155\n",
       "iztacalco                 13975\n",
       "miguel_hidalgo            12421\n",
       "cuauhtemoc                12044\n",
       "la_magdalena_contreras    11057\n",
       "milpa_alta                10769\n",
       "cuajimalpa_de_morelos     10594\n",
       "benito_juarez             10015\n",
       "Name: count, dtype: int64"
      ]
     },
     "execution_count": 13,
     "metadata": {},
     "output_type": "execute_result"
    }
   ],
   "source": [
    "df.municipio.value_counts()"
   ]
  },
  {
   "cell_type": "code",
   "execution_count": 14,
   "metadata": {},
   "outputs": [
    {
     "data": {
      "text/plain": [
       "Index(['benito_juarez', 'cuajimalpa_de_morelos', 'milpa_alta',\n",
       "       'la_magdalena_contreras', 'cuauhtemoc', 'miguel_hidalgo', 'iztacalco',\n",
       "       'venustiano_carranza', 'azcapotzalco', 'tlahuac', 'coyoacan',\n",
       "       'alvaro_obregon', 'xochimilco', 'tlalpan', 'gustavo_a_madero',\n",
       "       'iztapalapa'],\n",
       "      dtype='object', name='municipio')"
      ]
     },
     "execution_count": 14,
     "metadata": {},
     "output_type": "execute_result"
    }
   ],
   "source": [
    "orden = df.municipio.value_counts(ascending=True).index\n",
    "orden"
   ]
  },
  {
   "cell_type": "code",
   "execution_count": 15,
   "metadata": {},
   "outputs": [],
   "source": [
    "orden = ['gustavo_a_madero']"
   ]
  },
  {
   "cell_type": "code",
   "execution_count": 16,
   "metadata": {},
   "outputs": [
    {
     "name": "stdout",
     "output_type": "stream",
     "text": [
      "Processing municipality: gustavo_a_madero\n",
      "Saved municipality gustavo_a_madero to ../../data/processed/INEGI/colonia/20251004073327_gustavo_a_madero.csv\n"
     ]
    }
   ],
   "source": [
    "# Ejemplo de procesamiento para el municipio seleccionado\n",
    "for municipio in orden:\n",
    "    mun_df = df[df.municipio == municipio].copy()\n",
    "    process_df = process_municipality(municipio, mun_df)\n",
    "    del process_df"
   ]
  },
  {
   "cell_type": "code",
   "execution_count": 17,
   "metadata": {},
   "outputs": [
    {
     "ename": "NameError",
     "evalue": "name 'process_df' is not defined",
     "output_type": "error",
     "traceback": [
      "\u001b[0;31m---------------------------------------------------------------------------\u001b[0m",
      "\u001b[0;31mNameError\u001b[0m                                 Traceback (most recent call last)",
      "Cell \u001b[0;32mIn[17], line 1\u001b[0m\n\u001b[0;32m----> 1\u001b[0m process_df\u001b[38;5;241m.\u001b[39maddress\u001b[38;5;241m.\u001b[39mvalues[\u001b[38;5;241m4\u001b[39m]\n",
      "\u001b[0;31mNameError\u001b[0m: name 'process_df' is not defined"
     ]
    }
   ],
   "source": [
    "process_df.address.values[4]"
   ]
  },
  {
   "cell_type": "code",
   "execution_count": null,
   "metadata": {},
   "outputs": [],
   "source": []
  }
 ],
 "metadata": {
  "kernelspec": {
   "display_name": "base",
   "language": "python",
   "name": "python3"
  },
  "language_info": {
   "codemirror_mode": {
    "name": "ipython",
    "version": 3
   },
   "file_extension": ".py",
   "mimetype": "text/x-python",
   "name": "python",
   "nbconvert_exporter": "python",
   "pygments_lexer": "ipython3",
   "version": "3.12.2"
  }
 },
 "nbformat": 4,
 "nbformat_minor": 2
}
