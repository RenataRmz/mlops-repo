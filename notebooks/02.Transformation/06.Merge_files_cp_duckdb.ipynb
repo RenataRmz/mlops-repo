{
 "cells": [
  {
   "cell_type": "markdown",
   "metadata": {},
   "source": [
    "# Merge por coordenadas con DuckDB (usando CP)\n",
    "\n",
    "- Lee inmuebles con columnas latitud/longitud y cp.\n",
    "- Lee AGEB desde CSVs y asegura latitud/longitud en DOUBLE.\n",
    "- Join por cp (estandarizado) y elige el AGEB más cercano dentro del mismo código postal.\n",
    "- Devuelve df_merge y guarda parquet."
   ]
  },
  {
   "cell_type": "code",
   "execution_count": 1,
   "metadata": {},
   "outputs": [],
   "source": [
    "import os\n",
    "import re\n",
    "import duckdb\n",
    "import pandas as pd\n",
    "from unidecode import unidecode\n",
    "from pyproj import Transformer\n",
    "from datetime import datetime\n",
    "\n",
    "# Parámetros de entrada/salida (dinámicos por fecha)\n",
    "# \"2025-08-31\", \"2025-09-14\", \"2025-09-20\", \"2025-09-27\", \"2025-10-05\", \"2025-10-11\"\n",
    "run_date = \"2025-10-11\"\n",
    "run_date = datetime.strptime(run_date, \"%Y-%m-%d\").strftime(\"%Y-%m-%d\")\n",
    "\n",
    "inmuebles_path = f\"../../data/processed/inmuebles24_departamentos_coordenadas_{run_date}.parquet\"  # requiere latitud/longitud y cp\n",
    "ageb_input = \"../../data/processed/INEGI/colonia/*.csv\"  # CSVs de INEGI (glob) o ruta única\n",
    "output_path = f\"../../data/processed/merged_inmuebles24_departamentos_duckdb_cp_{run_date}.parquet\"\n",
    "\n",
    "# Función para estandarizar texto\n",
    "def estandarizar_texto(texto):\n",
    "    if pd.isna(texto):\n",
    "        return \"\"\n",
    "    texto = texto.replace(\"\\n\", \" \")  # Reemplazar saltos de línea por espacios\n",
    "    texto = texto.replace(\",\", \"\")  # Quitar comas\n",
    "    return unidecode(texto.strip().lower())"
   ]
  },
  {
   "cell_type": "code",
   "execution_count": 2,
   "metadata": {},
   "outputs": [
    {
     "data": {
      "application/vnd.jupyter.widget-view+json": {
       "model_id": "6198509d53784919a7c2e128ea0037a6",
       "version_major": 2,
       "version_minor": 0
      },
      "text/plain": [
       "FloatProgress(value=0.0, layout=Layout(width='auto'), style=ProgressStyle(bar_color='black'))"
      ]
     },
     "metadata": {},
     "output_type": "display_data"
    },
    {
     "data": {
      "text/plain": [
       "<_duckdb.DuckDBPyConnection at 0x104dc3d70>"
      ]
     },
     "execution_count": 2,
     "metadata": {},
     "output_type": "execute_result"
    }
   ],
   "source": [
    "# Conexión DuckDB + extensión spatial\n",
    "con = duckdb.connect(database=\":memory:\")\n",
    "try:\n",
    "    con.execute(\"INSTALL spatial;\")\n",
    "except Exception:\n",
    "    pass\n",
    "con.execute(\"LOAD spatial;\")\n",
    "\n",
    "# Cargar AGEB desde CSVs a pandas y transformar coordenadas (INEGI EPSG:6372 -> WGS84 EPSG:4326)\n",
    "df_ageb = con.execute(f\"\"\"\n",
    "SELECT *\n",
    "FROM read_csv_auto('{ageb_input}', ignore_errors=True, all_varchar=True)\n",
    "\"\"\").fetchdf()\n",
    "\n",
    "# Estandarizar postcode en AGEB\n",
    "if 'postcode' in df_ageb.columns:\n",
    "    df_ageb['postcode'] = df_ageb['postcode'].astype(str).str.zfill(5)\n",
    "\n",
    "if {'lon','lat'}.issubset(df_ageb.columns):\n",
    "    # Convertir a float y transformar con pyproj\n",
    "    df_ageb[['lon','lat']] = df_ageb[['lon','lat']].astype(float)\n",
    "    transformer = Transformer.from_crs(\"epsg:6372\", \"epsg:4326\", always_xy=True)\n",
    "    lon_wgs, lat_wgs = transformer.transform(df_ageb['lon'].values, df_ageb['lat'].values)\n",
    "    df_ageb['longitud'] = lon_wgs\n",
    "    df_ageb['latitud'] = lat_wgs\n",
    "elif {'longitud','latitud'}.issubset(df_ageb.columns):\n",
    "    # Ya vienen en WGS84, asegurar tipo float\n",
    "    df_ageb[['longitud','latitud']] = df_ageb[['longitud','latitud']].astype(float)\n",
    "else:\n",
    "    raise ValueError(\"AGEB necesita columnas lon/lat o longitud/latitud para la transformación.\")\n",
    "\n",
    "# Registrar tabla ageb en DuckDB\n",
    "con.register(\"ageb_df\", df_ageb)\n",
    "con.execute(\"CREATE OR REPLACE TABLE ageb AS SELECT * FROM ageb_df\")\n",
    "con.execute(\"ALTER TABLE ageb ALTER COLUMN postcode TYPE VARCHAR\")\n",
    "\n",
    "# Cargar inmuebles y estandarizar cp\n",
    "df_inmuebles = pd.read_parquet(inmuebles_path)\n",
    "if 'cp' in df_inmuebles.columns:\n",
    "    df_inmuebles['cp'] = df_inmuebles['cp'].astype(str).str.zfill(5)\n",
    "\n",
    "con.register(\"inmuebles_df\", df_inmuebles)\n",
    "con.execute(\"CREATE OR REPLACE TABLE inmuebles AS SELECT * FROM inmuebles_df\")\n",
    "\n",
    "# Validar columnas de coordenadas en inmuebles\n",
    "inm_cols = [r[1] for r in con.execute(\"PRAGMA table_info('inmuebles')\").fetchall()]\n",
    "if not {'latitud','longitud','cp'}.issubset(set(inm_cols)):\n",
    "    raise ValueError(\"El parquet de inmuebles debe incluir columnas 'latitud', 'longitud' y 'cp'.\")\n",
    "con.execute(\"ALTER TABLE inmuebles ALTER COLUMN latitud TYPE DOUBLE\")\n",
    "con.execute(\"ALTER TABLE inmuebles ALTER COLUMN longitud TYPE DOUBLE\")\n",
    "con.execute(\"ALTER TABLE inmuebles ALTER COLUMN cp TYPE VARCHAR\")"
   ]
  },
  {
   "cell_type": "code",
   "execution_count": 3,
   "metadata": {},
   "outputs": [
    {
     "name": "stdout",
     "output_type": "stream",
     "text": [
      "df_merge shape: (4172, 152)\n"
     ]
    },
    {
     "data": {
      "text/html": [
       "<div>\n",
       "<style scoped>\n",
       "    .dataframe tbody tr th:only-of-type {\n",
       "        vertical-align: middle;\n",
       "    }\n",
       "\n",
       "    .dataframe tbody tr th {\n",
       "        vertical-align: top;\n",
       "    }\n",
       "\n",
       "    .dataframe thead th {\n",
       "        text-align: right;\n",
       "    }\n",
       "</style>\n",
       "<table border=\"1\" class=\"dataframe\">\n",
       "  <thead>\n",
       "    <tr style=\"text-align: right;\">\n",
       "      <th></th>\n",
       "      <th>precio_mxn</th>\n",
       "      <th>lote_m2</th>\n",
       "      <th>recamaras</th>\n",
       "      <th>baños</th>\n",
       "      <th>estacionamiento</th>\n",
       "      <th>es_amueblado</th>\n",
       "      <th>es_penthouse</th>\n",
       "      <th>direccion</th>\n",
       "      <th>colonia</th>\n",
       "      <th>cp</th>\n",
       "      <th>...</th>\n",
       "      <th>lat</th>\n",
       "      <th>municipio_1</th>\n",
       "      <th>address</th>\n",
       "      <th>road</th>\n",
       "      <th>quarter</th>\n",
       "      <th>borough</th>\n",
       "      <th>postcode</th>\n",
       "      <th>longitud_1</th>\n",
       "      <th>latitud_1</th>\n",
       "      <th>distancia</th>\n",
       "    </tr>\n",
       "  </thead>\n",
       "  <tbody>\n",
       "    <tr>\n",
       "      <th>0</th>\n",
       "      <td>13000.0</td>\n",
       "      <td>100</td>\n",
       "      <td>2.0</td>\n",
       "      <td>1.0</td>\n",
       "      <td>0.0</td>\n",
       "      <td>0</td>\n",
       "      <td>0</td>\n",
       "      <td>cerro de la silla 28 campestre churubusco  coy...</td>\n",
       "      <td>campestre</td>\n",
       "      <td>01040</td>\n",
       "      <td>...</td>\n",
       "      <td>820010.334701</td>\n",
       "      <td>alvaro_obregon</td>\n",
       "      <td>{'road': 'Avenida Revolución', 'neighbourhood'...</td>\n",
       "      <td>Avenida Revolución</td>\n",
       "      <td>None</td>\n",
       "      <td>Álvaro Obregón</td>\n",
       "      <td>01040</td>\n",
       "      <td>-99.190509</td>\n",
       "      <td>19.351696</td>\n",
       "      <td>0.057000</td>\n",
       "    </tr>\n",
       "    <tr>\n",
       "      <th>1</th>\n",
       "      <td>90000.0</td>\n",
       "      <td>260</td>\n",
       "      <td>2.0</td>\n",
       "      <td>2.0</td>\n",
       "      <td>2.0</td>\n",
       "      <td>1</td>\n",
       "      <td>0</td>\n",
       "      <td>c.monte camerun 145 lomas de chapultepec  migu...</td>\n",
       "      <td>hidalgo</td>\n",
       "      <td>01120</td>\n",
       "      <td>...</td>\n",
       "      <td>825407.890601</td>\n",
       "      <td>alvaro_obregon</td>\n",
       "      <td>{'amenity': 'Colegio Americano', 'road': 'Call...</td>\n",
       "      <td>Calle Tula</td>\n",
       "      <td>None</td>\n",
       "      <td>Álvaro Obregón</td>\n",
       "      <td>01120</td>\n",
       "      <td>-99.206255</td>\n",
       "      <td>19.400896</td>\n",
       "      <td>0.031069</td>\n",
       "    </tr>\n",
       "    <tr>\n",
       "      <th>2</th>\n",
       "      <td>63000.0</td>\n",
       "      <td>99</td>\n",
       "      <td>2.0</td>\n",
       "      <td>2.0</td>\n",
       "      <td>1.0</td>\n",
       "      <td>1</td>\n",
       "      <td>0</td>\n",
       "      <td>vazquez de mella polanco  miguel hidalgo</td>\n",
       "      <td>hidalgo</td>\n",
       "      <td>01120</td>\n",
       "      <td>...</td>\n",
       "      <td>825638.441185</td>\n",
       "      <td>alvaro_obregon</td>\n",
       "      <td>{'road': 'Avenida Observatorio', 'neighbourhoo...</td>\n",
       "      <td>Avenida Observatorio</td>\n",
       "      <td>None</td>\n",
       "      <td>Álvaro Obregón</td>\n",
       "      <td>01120</td>\n",
       "      <td>-99.198046</td>\n",
       "      <td>19.402833</td>\n",
       "      <td>0.035237</td>\n",
       "    </tr>\n",
       "  </tbody>\n",
       "</table>\n",
       "<p>3 rows × 152 columns</p>\n",
       "</div>"
      ],
      "text/plain": [
       "   precio_mxn  lote_m2  recamaras  baños  estacionamiento  es_amueblado  \\\n",
       "0     13000.0      100        2.0    1.0              0.0             0   \n",
       "1     90000.0      260        2.0    2.0              2.0             1   \n",
       "2     63000.0       99        2.0    2.0              1.0             1   \n",
       "\n",
       "   es_penthouse                                          direccion    colonia  \\\n",
       "0             0  cerro de la silla 28 campestre churubusco  coy...  campestre   \n",
       "1             0  c.monte camerun 145 lomas de chapultepec  migu...    hidalgo   \n",
       "2             0           vazquez de mella polanco  miguel hidalgo    hidalgo   \n",
       "\n",
       "      cp  ...            lat     municipio_1  \\\n",
       "0  01040  ...  820010.334701  alvaro_obregon   \n",
       "1  01120  ...  825407.890601  alvaro_obregon   \n",
       "2  01120  ...  825638.441185  alvaro_obregon   \n",
       "\n",
       "                                             address                  road  \\\n",
       "0  {'road': 'Avenida Revolución', 'neighbourhood'...    Avenida Revolución   \n",
       "1  {'amenity': 'Colegio Americano', 'road': 'Call...            Calle Tula   \n",
       "2  {'road': 'Avenida Observatorio', 'neighbourhoo...  Avenida Observatorio   \n",
       "\n",
       "   quarter         borough postcode longitud_1  latitud_1 distancia  \n",
       "0     None  Álvaro Obregón    01040 -99.190509  19.351696  0.057000  \n",
       "1     None  Álvaro Obregón    01120 -99.206255  19.400896  0.031069  \n",
       "2     None  Álvaro Obregón    01120 -99.198046  19.402833  0.035237  \n",
       "\n",
       "[3 rows x 152 columns]"
      ]
     },
     "execution_count": 3,
     "metadata": {},
     "output_type": "execute_result"
    }
   ],
   "source": [
    "# Join por cp: toma el AGEB más cercano dentro del mismo código postal\n",
    "query = \"\"\"\n",
    "WITH inmuebles_validos AS (\n",
    "    SELECT * \n",
    "    FROM inmuebles\n",
    "    WHERE latitud IS NOT NULL AND longitud IS NOT NULL AND cp IS NOT NULL\n",
    ")\n",
    "SELECT \n",
    "  i.*, \n",
    "  a.*, \n",
    "  ST_Distance(ST_Point(i.longitud, i.latitud), ST_Point(a.longitud, a.latitud)) AS distancia\n",
    "FROM inmuebles_validos i\n",
    "LEFT JOIN LATERAL (\n",
    "  SELECT a.*\n",
    "  FROM ageb a\n",
    "  WHERE a.postcode = i.cp\n",
    "  ORDER BY ST_Distance(ST_Point(i.longitud, i.latitud), ST_Point(a.longitud, a.latitud)) ASC\n",
    "  LIMIT 1\n",
    ") a ON TRUE\n",
    "\"\"\"\n",
    "\n",
    "df_merge = con.execute(query).fetchdf()\n",
    "print(\"df_merge shape:\", df_merge.shape)\n",
    "df_merge.head(3)"
   ]
  },
  {
   "cell_type": "code",
   "execution_count": 4,
   "metadata": {},
   "outputs": [
    {
     "name": "stdout",
     "output_type": "stream",
     "text": [
      "Estadísticas para la fecha de ejecución: 2025-10-11\n",
      "Total de inmuebles inicial: 5975\n",
      "Inmuebles con coordenadas y cp válidos (procesados): 4172\n",
      "Inmuebles perdidos: 1803 (30.18%)\n"
     ]
    }
   ],
   "source": [
    "# Estadísticas de pérdida de datos por falta de coordenadas/cp\n",
    "total_inmuebles = len(df_inmuebles)\n",
    "inmuebles_procesados = len(df_merge)\n",
    "perdidos = total_inmuebles - inmuebles_procesados\n",
    "porcentaje_perdido = (perdidos / total_inmuebles) * 100 if total_inmuebles > 0 else 0\n",
    "\n",
    "print(f\"Estadísticas para la fecha de ejecución: {run_date}\")\n",
    "print(f\"Total de inmuebles inicial: {total_inmuebles}\")\n",
    "print(f\"Inmuebles con coordenadas y cp válidos (procesados): {inmuebles_procesados}\")\n",
    "print(f\"Inmuebles perdidos: {perdidos} ({porcentaje_perdido:.2f}%)\")"
   ]
  },
  {
   "cell_type": "code",
   "execution_count": 5,
   "metadata": {},
   "outputs": [
    {
     "name": "stdout",
     "output_type": "stream",
     "text": [
      "Parquet escrito en: ../../data/processed/merged_inmuebles24_departamentos_duckdb_cp_2025-10-11.parquet\n"
     ]
    }
   ],
   "source": [
    "# Guardar parquet final\n",
    "# Guardar parquet final\n",
    "os.makedirs(os.path.dirname(output_path), exist_ok=True)\n",
    "df_merge.to_parquet(output_path, index=False)\n",
    "print(\"Parquet escrito en:\", output_path)"
   ]
  },
  {
   "cell_type": "markdown",
   "metadata": {},
   "source": [
    "- Estadísticas para la fecha de ejecución: 2025-08-31\n",
    "- Total de inmuebles inicial: 5858\n",
    "- Inmuebles con coordenadas y cp válidos (procesados): 4094\n",
    "- Inmuebles perdidos: 1764 (30.11%)"
   ]
  },
  {
   "cell_type": "markdown",
   "metadata": {},
   "source": [
    "- Estadísticas para la fecha de ejecución: 2025-09-14\n",
    "- Total de inmuebles inicial: 6040\n",
    "- Inmuebles con coordenadas y cp válidos (procesados): 4197\n",
    "- Inmuebles perdidos: 1843 (30.51%)"
   ]
  },
  {
   "cell_type": "markdown",
   "metadata": {},
   "source": [
    "- Estadísticas para la fecha de ejecución: 2025-09-20\n",
    "- Total de inmuebles inicial: 5684\n",
    "- Inmuebles con coordenadas y cp válidos (procesados): 3982\n",
    "- Inmuebles perdidos: 1702 (29.94%)"
   ]
  },
  {
   "cell_type": "markdown",
   "metadata": {},
   "source": [
    "- Estadísticas para la fecha de ejecución: 2025-09-27\n",
    "- Total de inmuebles inicial: 5986\n",
    "- Inmuebles con coordenadas y cp válidos (procesados): 4180\n",
    "- Inmuebles perdidos: 1806 (30.17%)"
   ]
  },
  {
   "cell_type": "markdown",
   "metadata": {},
   "source": [
    "- Estadísticas para la fecha de ejecución: 2025-10-05\n",
    "- Total de inmuebles inicial: 5843\n",
    "- Inmuebles con coordenadas y cp válidos (procesados): 4038\n",
    "- Inmuebles perdidos: 1805 (30.89%)"
   ]
  },
  {
   "cell_type": "markdown",
   "metadata": {},
   "source": [
    "- Estadísticas para la fecha de ejecución: 2025-10-11\n",
    "- Total de inmuebles inicial: 5975\n",
    "- Inmuebles con coordenadas y cp válidos (procesados): 4172\n",
    "- Inmuebles perdidos: 1803 (30.18%)"
   ]
  }
 ],
 "metadata": {
  "kernelspec": {
   "display_name": "base",
   "language": "python",
   "name": "python3"
  },
  "language_info": {
   "codemirror_mode": {
    "name": "ipython",
    "version": 3
   },
   "file_extension": ".py",
   "mimetype": "text/x-python",
   "name": "python",
   "nbconvert_exporter": "python",
   "pygments_lexer": "ipython3",
   "version": "3.12.2"
  }
 },
 "nbformat": 4,
 "nbformat_minor": 2
}
