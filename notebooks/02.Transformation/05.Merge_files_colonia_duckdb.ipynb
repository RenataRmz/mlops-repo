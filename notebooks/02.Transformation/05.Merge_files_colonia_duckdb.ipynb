{
 "cells": [
  {
   "cell_type": "markdown",
   "metadata": {},
   "source": [
    "# Merge por coordenadas con DuckDB\n",
    "\n",
    "- Lee inmuebles con columnas latitud/longitud y colonia.\n",
    "- Lee AGEB desde CSVs y asegura latitud/longitud en DOUBLE.\n",
    "- Extrae y estandariza neighbourhood de AGEB.\n",
    "- Join por colonia (estandarizada) y elige el AGEB más cercano dentro de la misma colonia.\n",
    "- Devuelve df_merge y guarda parquet."
   ]
  },
  {
   "cell_type": "code",
   "execution_count": 1,
   "metadata": {},
   "outputs": [],
   "source": [
    "import os\n",
    "import re\n",
    "import duckdb\n",
    "import pandas as pd\n",
    "from unidecode import unidecode\n",
    "from pyproj import Transformer\n",
    "from datetime import datetime\n",
    "\n",
    "# Parámetros de entrada/salida (dinámicos por fecha)\n",
    "# \"2025-08-31\", \"2025-09-14\", \"2025-09-20\", \"2025-09-27\", \"2025-10-05\", \"2025-10-11\"\n",
    "run_date = \"2025-09-14\"\n",
    "run_date = datetime.strptime(run_date, \"%Y-%m-%d\").strftime(\"%Y-%m-%d\")\n",
    "\n",
    "inmuebles_path = f\"../../data/processed/inmuebles24_departamentos_coordenadas_{run_date}.parquet\"  # requiere latitud/longitud y colonia\n",
    "ageb_input = \"../../data/processed/INEGI/colonia/*.csv\"  # CSVs de INEGI (glob) o ruta única\n",
    "output_path = f\"../../data/processed/merged_inmuebles24_departamentos_duckdb_{run_date}.parquet\"\n",
    "\n",
    "# Función para estandarizar texto\n",
    "def estandarizar_texto(texto):\n",
    "    if pd.isna(texto):\n",
    "        return \"\"\n",
    "    texto = texto.replace(\"\\n\", \" \")  # Reemplazar saltos de línea por espacios\n",
    "    texto = texto.replace(\",\", \"\")  # Quitar comas\n",
    "    return unidecode(texto.strip().lower())"
   ]
  },
  {
   "cell_type": "code",
   "execution_count": 2,
   "metadata": {},
   "outputs": [
    {
     "data": {
      "application/vnd.jupyter.widget-view+json": {
       "model_id": "1640e7fbf9d7446895f391d3aff61683",
       "version_major": 2,
       "version_minor": 0
      },
      "text/plain": [
       "FloatProgress(value=0.0, layout=Layout(width='auto'), style=ProgressStyle(bar_color='black'))"
      ]
     },
     "metadata": {},
     "output_type": "display_data"
    },
    {
     "data": {
      "text/plain": [
       "<_duckdb.DuckDBPyConnection at 0x103d8c430>"
      ]
     },
     "execution_count": 2,
     "metadata": {},
     "output_type": "execute_result"
    }
   ],
   "source": [
    "# Conexión DuckDB + extensión spatial\n",
    "con = duckdb.connect(database=\":memory:\")\n",
    "try:\n",
    "    con.execute(\"INSTALL spatial;\")\n",
    "except Exception:\n",
    "    pass\n",
    "con.execute(\"LOAD spatial;\")\n",
    "\n",
    "# Cargar AGEB desde CSVs a pandas y transformar coordenadas (INEGI EPSG:6372 -> WGS84 EPSG:4326)\n",
    "df_ageb = con.execute(f\"\"\"\n",
    "SELECT *\n",
    "FROM read_csv_auto('{ageb_input}', ignore_errors=True, all_varchar=True)\n",
    "\"\"\").fetchdf()\n",
    "\n",
    "if {'lon','lat'}.issubset(df_ageb.columns):\n",
    "    # Convertir a float y transformar con pyproj\n",
    "    df_ageb[['lon','lat']] = df_ageb[['lon','lat']].astype(float)\n",
    "    transformer = Transformer.from_crs(\"epsg:6372\", \"epsg:4326\", always_xy=True)\n",
    "    lon_wgs, lat_wgs = transformer.transform(df_ageb['lon'].values, df_ageb['lat'].values)\n",
    "    df_ageb['longitud'] = lon_wgs\n",
    "    df_ageb['latitud'] = lat_wgs\n",
    "elif {'longitud','latitud'}.issubset(df_ageb.columns):\n",
    "    # Ya vienen en WGS84, asegurar tipo float\n",
    "    df_ageb[['longitud','latitud']] = df_ageb[['longitud','latitud']].astype(float)\n",
    "else:\n",
    "    raise ValueError(\"AGEB necesita columnas lon/lat o longitud/latitud para la transformación.\")\n",
    "\n",
    "# Extraer y estandarizar neighbourhood de address\n",
    "pat = re.compile(r\"'neighbourhood':\\s*'([^']+)'\")\n",
    "df_ageb['neighbourhood'] = df_ageb['address'].str.extract(pat)\n",
    "df_ageb['neighbourhood'] = df_ageb['neighbourhood'].apply(estandarizar_texto)\n",
    "df_ageb['neighbourhood'] = df_ageb['neighbourhood'].str.replace('colonia ', '').str.replace('Colonia ', '')\n",
    "\n",
    "# Registrar tabla ageb en DuckDB\n",
    "con.register(\"ageb_df\", df_ageb)\n",
    "con.execute(\"CREATE OR REPLACE TABLE ageb AS SELECT * FROM ageb_df\")\n",
    "\n",
    "# Cargar inmuebles y estandarizar colonia\n",
    "df_inmuebles = pd.read_parquet(inmuebles_path)\n",
    "df_inmuebles['colonia_std'] = df_inmuebles['colonia'].apply(estandarizar_texto)\n",
    "con.register(\"inmuebles_df\", df_inmuebles)\n",
    "con.execute(\"CREATE OR REPLACE TABLE inmuebles AS SELECT * FROM inmuebles_df\")\n",
    "\n",
    "# Validar columnas de coordenadas en inmuebles\n",
    "inm_cols = [r[1] for r in con.execute(\"PRAGMA table_info('inmuebles')\").fetchall()]\n",
    "if not {'latitud','longitud','colonia_std'}.issubset(set(inm_cols)):\n",
    "    raise ValueError(\"El parquet de inmuebles debe incluir columnas 'latitud', 'longitud' y 'colonia'.\")\n",
    "con.execute(\"ALTER TABLE inmuebles ALTER COLUMN latitud TYPE DOUBLE\")\n",
    "con.execute(\"ALTER TABLE inmuebles ALTER COLUMN longitud TYPE DOUBLE\")"
   ]
  },
  {
   "cell_type": "code",
   "execution_count": 3,
   "metadata": {},
   "outputs": [
    {
     "name": "stdout",
     "output_type": "stream",
     "text": [
      "df_merge shape: (6040, 154)\n"
     ]
    },
    {
     "data": {
      "text/html": [
       "<div>\n",
       "<style scoped>\n",
       "    .dataframe tbody tr th:only-of-type {\n",
       "        vertical-align: middle;\n",
       "    }\n",
       "\n",
       "    .dataframe tbody tr th {\n",
       "        vertical-align: top;\n",
       "    }\n",
       "\n",
       "    .dataframe thead th {\n",
       "        text-align: right;\n",
       "    }\n",
       "</style>\n",
       "<table border=\"1\" class=\"dataframe\">\n",
       "  <thead>\n",
       "    <tr style=\"text-align: right;\">\n",
       "      <th></th>\n",
       "      <th>precio_mxn</th>\n",
       "      <th>lote_m2</th>\n",
       "      <th>recamaras</th>\n",
       "      <th>baños</th>\n",
       "      <th>estacionamiento</th>\n",
       "      <th>es_amueblado</th>\n",
       "      <th>es_penthouse</th>\n",
       "      <th>direccion</th>\n",
       "      <th>colonia</th>\n",
       "      <th>cp</th>\n",
       "      <th>...</th>\n",
       "      <th>municipio_1</th>\n",
       "      <th>address</th>\n",
       "      <th>road</th>\n",
       "      <th>quarter</th>\n",
       "      <th>borough</th>\n",
       "      <th>postcode</th>\n",
       "      <th>longitud_1</th>\n",
       "      <th>latitud_1</th>\n",
       "      <th>neighbourhood</th>\n",
       "      <th>distancia</th>\n",
       "    </tr>\n",
       "  </thead>\n",
       "  <tbody>\n",
       "    <tr>\n",
       "      <th>0</th>\n",
       "      <td>16000.0</td>\n",
       "      <td>30</td>\n",
       "      <td>1.0</td>\n",
       "      <td>1.0</td>\n",
       "      <td>1.0</td>\n",
       "      <td>1</td>\n",
       "      <td>0</td>\n",
       "      <td>av. tamaulipas 257 alvaro obregon  ciudad de m...</td>\n",
       "      <td>alvaro obregon</td>\n",
       "      <td>9230</td>\n",
       "      <td>...</td>\n",
       "      <td>venustiano_carranza</td>\n",
       "      <td>{'road': 'Avenida Congreso de la Unión', 'neig...</td>\n",
       "      <td>Avenida Congreso de la Unión</td>\n",
       "      <td>None</td>\n",
       "      <td>Venustiano Carranza</td>\n",
       "      <td>15990</td>\n",
       "      <td>-99.121470</td>\n",
       "      <td>19.412086</td>\n",
       "      <td>alvaro obregon</td>\n",
       "      <td>0.153109</td>\n",
       "    </tr>\n",
       "    <tr>\n",
       "      <th>1</th>\n",
       "      <td>50000.0</td>\n",
       "      <td>167</td>\n",
       "      <td>3.0</td>\n",
       "      <td>2.0</td>\n",
       "      <td>3.0</td>\n",
       "      <td>0</td>\n",
       "      <td>0</td>\n",
       "      <td>av bernardo quintana alvaro obregon  ciudad de...</td>\n",
       "      <td>alvaro obregon</td>\n",
       "      <td>9230</td>\n",
       "      <td>...</td>\n",
       "      <td>venustiano_carranza</td>\n",
       "      <td>{'road': 'Avenida Congreso de la Unión', 'neig...</td>\n",
       "      <td>Avenida Congreso de la Unión</td>\n",
       "      <td>None</td>\n",
       "      <td>Venustiano Carranza</td>\n",
       "      <td>15990</td>\n",
       "      <td>-99.121470</td>\n",
       "      <td>19.412086</td>\n",
       "      <td>alvaro obregon</td>\n",
       "      <td>0.137192</td>\n",
       "    </tr>\n",
       "    <tr>\n",
       "      <th>2</th>\n",
       "      <td>38000.0</td>\n",
       "      <td>80</td>\n",
       "      <td>2.0</td>\n",
       "      <td>1.0</td>\n",
       "      <td>1.0</td>\n",
       "      <td>0</td>\n",
       "      <td>0</td>\n",
       "      <td>zamora 70 - condesa  cuauhtemoc</td>\n",
       "      <td>condesa</td>\n",
       "      <td>6140</td>\n",
       "      <td>...</td>\n",
       "      <td>cuauhtemoc</td>\n",
       "      <td>{'house_number': '70', 'road': 'Calle Zamora',...</td>\n",
       "      <td>Calle Zamora</td>\n",
       "      <td>None</td>\n",
       "      <td>Cuauhtémoc</td>\n",
       "      <td>06140</td>\n",
       "      <td>-99.177612</td>\n",
       "      <td>19.416966</td>\n",
       "      <td>condesa</td>\n",
       "      <td>0.000157</td>\n",
       "    </tr>\n",
       "  </tbody>\n",
       "</table>\n",
       "<p>3 rows × 154 columns</p>\n",
       "</div>"
      ],
      "text/plain": [
       "   precio_mxn  lote_m2  recamaras  baños  estacionamiento  es_amueblado  \\\n",
       "0     16000.0       30        1.0    1.0              1.0             1   \n",
       "1     50000.0      167        3.0    2.0              3.0             0   \n",
       "2     38000.0       80        2.0    1.0              1.0             0   \n",
       "\n",
       "   es_penthouse                                          direccion  \\\n",
       "0             0  av. tamaulipas 257 alvaro obregon  ciudad de m...   \n",
       "1             0  av bernardo quintana alvaro obregon  ciudad de...   \n",
       "2             0                    zamora 70 - condesa  cuauhtemoc   \n",
       "\n",
       "          colonia    cp  ...          municipio_1  \\\n",
       "0  alvaro obregon  9230  ...  venustiano_carranza   \n",
       "1  alvaro obregon  9230  ...  venustiano_carranza   \n",
       "2         condesa  6140  ...           cuauhtemoc   \n",
       "\n",
       "                                             address  \\\n",
       "0  {'road': 'Avenida Congreso de la Unión', 'neig...   \n",
       "1  {'road': 'Avenida Congreso de la Unión', 'neig...   \n",
       "2  {'house_number': '70', 'road': 'Calle Zamora',...   \n",
       "\n",
       "                           road  quarter              borough postcode  \\\n",
       "0  Avenida Congreso de la Unión     None  Venustiano Carranza    15990   \n",
       "1  Avenida Congreso de la Unión     None  Venustiano Carranza    15990   \n",
       "2                  Calle Zamora     None           Cuauhtémoc    06140   \n",
       "\n",
       "  longitud_1  latitud_1   neighbourhood distancia  \n",
       "0 -99.121470  19.412086  alvaro obregon  0.153109  \n",
       "1 -99.121470  19.412086  alvaro obregon  0.137192  \n",
       "2 -99.177612  19.416966         condesa  0.000157  \n",
       "\n",
       "[3 rows x 154 columns]"
      ]
     },
     "execution_count": 3,
     "metadata": {},
     "output_type": "execute_result"
    }
   ],
   "source": [
    "# Join por colonia estandarizada: toma el AGEB más cercano dentro de la misma colonia\n",
    "query = \"\"\"\n",
    "SELECT \n",
    "  i.*, \n",
    "  a.*, \n",
    "  ST_Distance(ST_Point(i.longitud, i.latitud), ST_Point(a.longitud, a.latitud)) AS distancia\n",
    "FROM inmuebles i\n",
    "LEFT JOIN LATERAL (\n",
    "  SELECT a.*\n",
    "  FROM ageb a\n",
    "  WHERE a.neighbourhood = i.colonia_std\n",
    "  ORDER BY ST_Distance(ST_Point(i.longitud, i.latitud), ST_Point(a.longitud, a.latitud)) ASC\n",
    "  LIMIT 1\n",
    ") a ON TRUE\n",
    "\"\"\"\n",
    "\n",
    "df_merge = con.execute(query).fetchdf()\n",
    "print(\"df_merge shape:\", df_merge.shape)\n",
    "df_merge.head(3)"
   ]
  },
  {
   "cell_type": "code",
   "execution_count": 4,
   "metadata": {},
   "outputs": [
    {
     "data": {
      "text/plain": [
       "precio_mxn            0\n",
       "lote_m2              50\n",
       "recamaras             0\n",
       "baños                 0\n",
       "estacionamiento       0\n",
       "                   ... \n",
       "postcode            741\n",
       "longitud_1          741\n",
       "latitud_1           741\n",
       "neighbourhood       741\n",
       "distancia          2130\n",
       "Length: 154, dtype: int64"
      ]
     },
     "execution_count": 4,
     "metadata": {},
     "output_type": "execute_result"
    }
   ],
   "source": [
    "df_merge.isnull().sum()"
   ]
  },
  {
   "cell_type": "code",
   "execution_count": 6,
   "metadata": {},
   "outputs": [
    {
     "data": {
      "text/plain": [
       "741"
      ]
     },
     "execution_count": 6,
     "metadata": {},
     "output_type": "execute_result"
    }
   ],
   "source": [
    "df_merge.AGEB.isnull().sum()"
   ]
  },
  {
   "cell_type": "code",
   "execution_count": 5,
   "metadata": {},
   "outputs": [
    {
     "name": "stdout",
     "output_type": "stream",
     "text": [
      "Parquet escrito en: ../../data/processed/merged_inmuebles24_departamentos_duckdb_2025-09-14.parquet\n"
     ]
    }
   ],
   "source": [
    "# Guardar parquet final\n",
    "os.makedirs(os.path.dirname(output_path), exist_ok=True)\n",
    "df_merge.to_parquet(output_path, index=False)\n",
    "print(\"Parquet escrito en:\", output_path)"
   ]
  }
 ],
 "metadata": {
  "kernelspec": {
   "display_name": "base",
   "language": "python",
   "name": "python3"
  },
  "language_info": {
   "codemirror_mode": {
    "name": "ipython",
    "version": 3
   },
   "file_extension": ".py",
   "mimetype": "text/x-python",
   "name": "python",
   "nbconvert_exporter": "python",
   "pygments_lexer": "ipython3",
   "version": "3.12.2"
  }
 },
 "nbformat": 4,
 "nbformat_minor": 2
}
