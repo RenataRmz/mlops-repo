{
 "cells": [
  {
   "cell_type": "code",
   "execution_count": null,
   "id": "72e7737d",
   "metadata": {},
   "outputs": [
    {
     "name": "stdout",
     "output_type": "stream",
     "text": [
      "Collecting geopandas\n",
      "  Using cached geopandas-1.1.1-py3-none-any.whl.metadata (2.3 kB)\n",
      "Requirement already satisfied: numpy>=1.24 in /Users/eaha/Documents/TFM/.venv/lib/python3.12/site-packages (from geopandas) (2.3.3)\n",
      "Collecting pyogrio>=0.7.2 (from geopandas)\n",
      "  Using cached pyogrio-0.11.1-cp312-cp312-macosx_12_0_arm64.whl.metadata (5.3 kB)\n",
      "Requirement already satisfied: packaging in /Users/eaha/Documents/TFM/.venv/lib/python3.12/site-packages (from geopandas) (25.0)\n",
      "Requirement already satisfied: pandas>=2.0.0 in /Users/eaha/Documents/TFM/.venv/lib/python3.12/site-packages (from geopandas) (2.3.2)\n",
      "Requirement already satisfied: pyproj>=3.5.0 in /Users/eaha/Documents/TFM/.venv/lib/python3.12/site-packages (from geopandas) (3.7.2)\n",
      "Collecting shapely>=2.0.0 (from geopandas)\n",
      "  Using cached shapely-2.1.2-cp312-cp312-macosx_11_0_arm64.whl.metadata (6.8 kB)\n",
      "Requirement already satisfied: python-dateutil>=2.8.2 in /Users/eaha/Documents/TFM/.venv/lib/python3.12/site-packages (from pandas>=2.0.0->geopandas) (2.9.0.post0)\n",
      "Requirement already satisfied: pytz>=2020.1 in /Users/eaha/Documents/TFM/.venv/lib/python3.12/site-packages (from pandas>=2.0.0->geopandas) (2025.2)\n",
      "Requirement already satisfied: tzdata>=2022.7 in /Users/eaha/Documents/TFM/.venv/lib/python3.12/site-packages (from pandas>=2.0.0->geopandas) (2025.2)\n",
      "Requirement already satisfied: certifi in /Users/eaha/Documents/TFM/.venv/lib/python3.12/site-packages (from pyogrio>=0.7.2->geopandas) (2025.8.3)\n",
      "Requirement already satisfied: six>=1.5 in /Users/eaha/Documents/TFM/.venv/lib/python3.12/site-packages (from python-dateutil>=2.8.2->pandas>=2.0.0->geopandas) (1.17.0)\n",
      "Using cached geopandas-1.1.1-py3-none-any.whl (338 kB)\n",
      "Using cached pyogrio-0.11.1-cp312-cp312-macosx_12_0_arm64.whl (19.5 MB)\n",
      "Using cached shapely-2.1.2-cp312-cp312-macosx_11_0_arm64.whl (1.6 MB)\n",
      "Installing collected packages: shapely, pyogrio, geopandas\n",
      "\u001b[2K   \u001b[90m━━━━━━━━━━━━━━━━━━━━━━━━━━━━━━━━━━━━━━━━\u001b[0m \u001b[32m3/3\u001b[0m [geopandas]/3\u001b[0m [pyogrio]\n",
      "\u001b[1A\u001b[2KSuccessfully installed geopandas-1.1.1 pyogrio-0.11.1 shapely-2.1.2\n"
     ]
    }
   ],
   "source": [
    "#!pip install geopandas"
   ]
  },
  {
   "cell_type": "code",
   "execution_count": 1,
   "id": "2a04de0a",
   "metadata": {},
   "outputs": [],
   "source": [
    "import geopandas as gpd\n",
    "import pandas as pd\n",
    "import os"
   ]
  },
  {
   "cell_type": "code",
   "execution_count": 13,
   "id": "2847c62d",
   "metadata": {},
   "outputs": [],
   "source": [
    "# === 1. Ruta base donde están las subcarpetas ===\n",
    "ruta_base = \"/Users/eaha/Documents/TFM/mlops-repo/data/raw/datos_geo_cdmx\""
   ]
  },
  {
   "cell_type": "code",
   "execution_count": 14,
   "id": "f5ef2931",
   "metadata": {},
   "outputs": [],
   "source": [
    "# === 2. Carpeta de salida ===\n",
    "carpeta_salida = os.path.join(\"/Users/eaha/Documents/TFM/mlops-repo/data/processed\", \"csv\")\n",
    "os.makedirs(carpeta_salida, exist_ok=True)"
   ]
  },
  {
   "cell_type": "code",
   "execution_count": 15,
   "id": "fe334646",
   "metadata": {},
   "outputs": [
    {
     "name": "stdout",
     "output_type": "stream",
     "text": [
      "🔍 Se encontraron 6 shapefiles para procesar.\n"
     ]
    }
   ],
   "source": [
    "# === 3. Buscar shapefiles en todas las subcarpetas ===\n",
    "shapefiles = []\n",
    "for root, dirs, files in os.walk(ruta_base):\n",
    "    for f in files:\n",
    "        if f.endswith(\".shp\"):\n",
    "            shapefiles.append(os.path.join(root, f))\n",
    "\n",
    "print(f\"🔍 Se encontraron {len(shapefiles)} shapefiles para procesar.\")"
   ]
  },
  {
   "cell_type": "code",
   "execution_count": 16,
   "id": "e940148b",
   "metadata": {},
   "outputs": [
    {
     "name": "stdout",
     "output_type": "stream",
     "text": [
      "\n",
      "Procesando escuelas_privadas.shp ...\n",
      "✅ Exportado: /Users/eaha/Documents/TFM/mlops-repo/data/processed/csv/escuelas_privadas/escuelas_privadas_con_coordenadas.csv\n",
      "\n",
      "Procesando hospitales_y_centros_de_salud.shp ...\n",
      "✅ Exportado: /Users/eaha/Documents/TFM/mlops-repo/data/processed/csv/hospitales_y_centros_de_salud/hospitales_y_centros_de_salud_con_coordenadas.csv\n",
      "\n",
      "Procesando Metrobus_estaciones.shp ...\n",
      "✅ Exportado: /Users/eaha/Documents/TFM/mlops-repo/data/processed/csv/mb_shp/Metrobus_estaciones_con_coordenadas.csv\n",
      "\n",
      "Procesando Metrobus_lineas.shp ...\n",
      "✅ Exportado: /Users/eaha/Documents/TFM/mlops-repo/data/processed/csv/mb_shp/Metrobus_lineas_con_coordenadas.csv\n",
      "\n",
      "Procesando STC_Metro_estaciones_utm14n.shp ...\n",
      "✅ Exportado: /Users/eaha/Documents/TFM/mlops-repo/data/processed/csv/stcmetro_shp/STC_Metro_estaciones_utm14n_con_coordenadas.csv\n",
      "\n",
      "Procesando STC_Metro_lineas_utm14n.shp ...\n",
      "✅ Exportado: /Users/eaha/Documents/TFM/mlops-repo/data/processed/csv/stcmetro_shp/STC_Metro_lineas_utm14n_con_coordenadas.csv\n"
     ]
    },
    {
     "name": "stderr",
     "output_type": "stream",
     "text": [
      "/var/folders/5x/v8hk2rj9117bkb38sq4yjyfw0000gn/T/ipykernel_9719/563224639.py:14: UserWarning: Geometry is in a geographic CRS. Results from 'centroid' are likely incorrect. Use 'GeoSeries.to_crs()' to re-project geometries to a projected CRS before this operation.\n",
      "\n",
      "  gdf[\"lon\"] = gdf.geometry.centroid.x\n",
      "/var/folders/5x/v8hk2rj9117bkb38sq4yjyfw0000gn/T/ipykernel_9719/563224639.py:15: UserWarning: Geometry is in a geographic CRS. Results from 'centroid' are likely incorrect. Use 'GeoSeries.to_crs()' to re-project geometries to a projected CRS before this operation.\n",
      "\n",
      "  gdf[\"lat\"] = gdf.geometry.centroid.y\n",
      "/var/folders/5x/v8hk2rj9117bkb38sq4yjyfw0000gn/T/ipykernel_9719/563224639.py:14: UserWarning: Geometry is in a geographic CRS. Results from 'centroid' are likely incorrect. Use 'GeoSeries.to_crs()' to re-project geometries to a projected CRS before this operation.\n",
      "\n",
      "  gdf[\"lon\"] = gdf.geometry.centroid.x\n",
      "/var/folders/5x/v8hk2rj9117bkb38sq4yjyfw0000gn/T/ipykernel_9719/563224639.py:15: UserWarning: Geometry is in a geographic CRS. Results from 'centroid' are likely incorrect. Use 'GeoSeries.to_crs()' to re-project geometries to a projected CRS before this operation.\n",
      "\n",
      "  gdf[\"lat\"] = gdf.geometry.centroid.y\n",
      "/var/folders/5x/v8hk2rj9117bkb38sq4yjyfw0000gn/T/ipykernel_9719/563224639.py:14: UserWarning: Geometry is in a geographic CRS. Results from 'centroid' are likely incorrect. Use 'GeoSeries.to_crs()' to re-project geometries to a projected CRS before this operation.\n",
      "\n",
      "  gdf[\"lon\"] = gdf.geometry.centroid.x\n",
      "/var/folders/5x/v8hk2rj9117bkb38sq4yjyfw0000gn/T/ipykernel_9719/563224639.py:15: UserWarning: Geometry is in a geographic CRS. Results from 'centroid' are likely incorrect. Use 'GeoSeries.to_crs()' to re-project geometries to a projected CRS before this operation.\n",
      "\n",
      "  gdf[\"lat\"] = gdf.geometry.centroid.y\n",
      "/var/folders/5x/v8hk2rj9117bkb38sq4yjyfw0000gn/T/ipykernel_9719/563224639.py:14: UserWarning: Geometry is in a geographic CRS. Results from 'centroid' are likely incorrect. Use 'GeoSeries.to_crs()' to re-project geometries to a projected CRS before this operation.\n",
      "\n",
      "  gdf[\"lon\"] = gdf.geometry.centroid.x\n",
      "/var/folders/5x/v8hk2rj9117bkb38sq4yjyfw0000gn/T/ipykernel_9719/563224639.py:15: UserWarning: Geometry is in a geographic CRS. Results from 'centroid' are likely incorrect. Use 'GeoSeries.to_crs()' to re-project geometries to a projected CRS before this operation.\n",
      "\n",
      "  gdf[\"lat\"] = gdf.geometry.centroid.y\n",
      "/var/folders/5x/v8hk2rj9117bkb38sq4yjyfw0000gn/T/ipykernel_9719/563224639.py:14: UserWarning: Geometry is in a geographic CRS. Results from 'centroid' are likely incorrect. Use 'GeoSeries.to_crs()' to re-project geometries to a projected CRS before this operation.\n",
      "\n",
      "  gdf[\"lon\"] = gdf.geometry.centroid.x\n",
      "/var/folders/5x/v8hk2rj9117bkb38sq4yjyfw0000gn/T/ipykernel_9719/563224639.py:15: UserWarning: Geometry is in a geographic CRS. Results from 'centroid' are likely incorrect. Use 'GeoSeries.to_crs()' to re-project geometries to a projected CRS before this operation.\n",
      "\n",
      "  gdf[\"lat\"] = gdf.geometry.centroid.y\n"
     ]
    }
   ],
   "source": [
    "# === 4. Procesar cada shapefile ===\n",
    "for shp_path in shapefiles:\n",
    "    nombre = os.path.splitext(os.path.basename(shp_path))[0]\n",
    "    print(f\"\\nProcesando {nombre}.shp ...\")\n",
    "\n",
    "    try:\n",
    "        # Leer shapefile\n",
    "        gdf = gpd.read_file(shp_path)\n",
    "\n",
    "        # Validar geometrías\n",
    "        gdf = gdf[gdf.is_valid]\n",
    "\n",
    "        # Calcular centroides (manejo seguro)\n",
    "        gdf[\"lon\"] = gdf.geometry.centroid.x\n",
    "        gdf[\"lat\"] = gdf.geometry.centroid.y\n",
    "\n",
    "        # Convertir a DataFrame sin geometría\n",
    "        df = gdf.drop(columns=\"geometry\")\n",
    "\n",
    "        # Nombre de salida (mantiene estructura de subcarpetas)\n",
    "        subruta_relativa = os.path.relpath(os.path.dirname(shp_path), ruta_base)\n",
    "        carpeta_destino = os.path.join(carpeta_salida, subruta_relativa)\n",
    "        os.makedirs(carpeta_destino, exist_ok=True)\n",
    "\n",
    "        output = os.path.join(carpeta_destino, f\"{nombre}_con_coordenadas.csv\")\n",
    "        df.to_csv(output, index=False, encoding=\"utf-8\")\n",
    "\n",
    "        print(f\"✅ Exportado: {output}\")\n",
    "\n",
    "    except Exception as e:\n",
    "        print(f\"⚠️ Error procesando {nombre}: {e}\")"
   ]
  },
  {
   "cell_type": "markdown",
   "id": "633d279d",
   "metadata": {},
   "source": [
    "Todos los archivos ya tienen las dos columnas que necesitamos: latitud y longitus, lo que ahora tengo que hacer es crear estas dos columnas para el archivo de areas verdes"
   ]
  },
  {
   "cell_type": "code",
   "execution_count": 7,
   "id": "2cc6faf0",
   "metadata": {},
   "outputs": [],
   "source": [
    "# === 1. Cargar tu CSV ===\n",
    "ruta_csv = \"/Users/eaha/Documents/TFM/mlops-repo/data/processed/csv/cdmx_areas_verdes_2017.csv\"\n",
    "df = pd.read_csv(ruta_csv)"
   ]
  },
  {
   "cell_type": "code",
   "execution_count": 8,
   "id": "e4c3634d",
   "metadata": {},
   "outputs": [],
   "source": [
    "# === 2. Separar latitud y longitud como strings primero ===\n",
    "df[[\"lat\", \"lon\"]] = df[\"geo_point_2d\"].str.split(\",\", expand=True)\n",
    "\n",
    "# Convertir a float sin perder precisión (float64)\n",
    "df[\"lat\"] = df[\"lat\"].astype(\"float64\")\n",
    "df[\"lon\"] = df[\"lon\"].astype(\"float64\")"
   ]
  },
  {
   "cell_type": "code",
   "execution_count": 9,
   "id": "e4db4b0b",
   "metadata": {},
   "outputs": [
    {
     "name": "stdout",
     "output_type": "stream",
     "text": [
      "                   geo_point_2d           lat            lon\n",
      "0  19.4877568178,-99.2060645931 19.4877568178 -99.2060645931\n",
      "1   19.3887689803,-99.116393168 19.3887689803 -99.1163931680\n",
      "2  19.3928871121,-99.0869912505 19.3928871121 -99.0869912505\n",
      "3   19.383106069,-99.1073609486 19.3831060690 -99.1073609486\n",
      "4  19.3822134465,-99.1028423436 19.3822134465 -99.1028423436\n"
     ]
    }
   ],
   "source": [
    "# === 3. Mostrar todos los decimales (solo visualización) ===\n",
    "pd.set_option(\"display.precision\", 12)  # muestra hasta 12 decimales\n",
    "pd.set_option(\"display.float_format\", lambda x: f\"{x:.10f}\")\n",
    "\n",
    "# Verifica que mantiene los valores originales\n",
    "print(df[[\"geo_point_2d\", \"lat\", \"lon\"]].head())"
   ]
  },
  {
   "cell_type": "code",
   "execution_count": 10,
   "id": "1c152255",
   "metadata": {},
   "outputs": [
    {
     "name": "stdout",
     "output_type": "stream",
     "text": [
      "\n",
      "🔹 Valores únicos en 'subcat_sed':\n",
      " - Panteones\n",
      " - Deportivos\n",
      " - Camellones centrales y laterales\n",
      " - Unidades habitacionales\n",
      " - Instituciones académicas públicas\n",
      " - Plazas\n",
      " - Asistencia Social con vegetación CDMX\n",
      " - Parques\n",
      " - Veg. Arbórea, arbustiva y herbácea de glorietas\n",
      " - Vialidades\n",
      " - Instituciones académicas privadas\n",
      " - Arboledas\n",
      " - Instituciones de salud pub/priv\n",
      " - Jardines públicos\n",
      " - Canales\n",
      " - Jardineras públicas y privadas\n",
      " - Azoteas verdes\n",
      " - Bordos\n",
      " - Terrenos baldíos\n",
      " - AVA\n",
      " - Depresiones orográficas\n",
      " - ANP\n",
      " - Alamedas\n",
      " - Promontorios\n",
      " - Colinas\n",
      " - Cerros\n",
      " - Zona de recarga de manto acuíferos\n"
     ]
    }
   ],
   "source": [
    "# === 4. Obtener lista de valores únicos en 'subcat_sed' ===\n",
    "valores_unicos = df[\"subcat_sed\"].dropna().unique()\n",
    "print(\"\\n🔹 Valores únicos en 'subcat_sed':\")\n",
    "for v in valores_unicos:\n",
    "    print(f\" - {v}\")"
   ]
  },
  {
   "cell_type": "code",
   "execution_count": 11,
   "id": "6a5e6deb",
   "metadata": {},
   "outputs": [],
   "source": [
    "# === 5. (Opcional) Filtrar por tus etiquetas de interés ===\n",
    "etiquetas_interes = [\"Deportivos\", \"Unidades habitacionales\", \"Plazas\", \"Parques\", \"Jardines públicos\", \"Colinas\", \"Cerros\"]\n",
    "df_filtrado = df[df[\"subcat_sed\"].isin(etiquetas_interes)]"
   ]
  },
  {
   "cell_type": "code",
   "execution_count": 12,
   "id": "82b2243a",
   "metadata": {},
   "outputs": [
    {
     "name": "stdout",
     "output_type": "stream",
     "text": [
      "\n",
      "✅ Registros filtrados: 2755\n"
     ]
    }
   ],
   "source": [
    "#Guardar\n",
    "df_filtrado.to_csv(\"/Users/eaha/Documents/TFM/mlops-repo/data/processed/csv/areas_verdes_filtrado.csv\", index=False, encoding=\"utf-8\")\n",
    "\n",
    "print(f\"\\n✅ Registros filtrados: {len(df_filtrado)}\")"
   ]
  },
  {
   "cell_type": "markdown",
   "id": "8a10e89d",
   "metadata": {},
   "source": [
    "Ahora ya tengo un archivo con las áreas verdes de mi interes.\n",
    "Exploraré un poco los otros archivos para entenderlos mejor y despues continuaré con el merge por aproximación para obtener la localidad más cercana a cada una de las localizaciones con las cuales contamos"
   ]
  },
  {
   "cell_type": "markdown",
   "id": "218139be",
   "metadata": {},
   "source": [
    "ya estan listos los 6 archivos que necesito para agregar la info a los dos data sets que tenemos.\n",
    "El de AGEB vs Catastral y el de WebScrapping vs AGEB\n",
    "Añadiré las locaciones e información de los puntos de servicios e infrestrucutra que son de nuestro interes, haré los merge através de las coordenadas (latittud y longitud) trayendo el punto de mayor cercanía a mis datos"
   ]
  },
  {
   "cell_type": "markdown",
   "id": "946992d4",
   "metadata": {},
   "source": [
    "Comenzaré con los archivos donde ya uní el AGEB y el catastral, que está dividido por delegaciones.\n",
    "Mi_unidad/TFM/join_results_fuzzy (google colab)\n",
    "entocnes, tendré que hacer un concat de todas ellas y ponerme a realizar los merge\n",
    "Esto lo ralizaré en el notebook \"Deleg_AGEB_Catast.ipynb\""
   ]
  },
  {
   "cell_type": "code",
   "execution_count": null,
   "id": "468b41f7",
   "metadata": {},
   "outputs": [],
   "source": [
    "import duckdb\n",
    "\n",
    "# Leer todos los archivos parquet en una carpeta\n",
    "con = duckdb.connect()\n",
    "df = con.execute(\"SELECT * FROM 'ruta/a/carpeta/*.parquet'\").df()\n",
    "print(df.head())"
   ]
  },
  {
   "cell_type": "code",
   "execution_count": null,
   "id": "76d9c6a9",
   "metadata": {},
   "outputs": [],
   "source": []
  },
  {
   "cell_type": "code",
   "execution_count": null,
   "id": "4e0ed420",
   "metadata": {},
   "outputs": [],
   "source": []
  }
 ],
 "metadata": {
  "kernelspec": {
   "display_name": ".venv (3.12.2)",
   "language": "python",
   "name": "python3"
  },
  "language_info": {
   "codemirror_mode": {
    "name": "ipython",
    "version": 3
   },
   "file_extension": ".py",
   "mimetype": "text/x-python",
   "name": "python",
   "nbconvert_exporter": "python",
   "pygments_lexer": "ipython3",
   "version": "3.12.2"
  }
 },
 "nbformat": 4,
 "nbformat_minor": 5
}
